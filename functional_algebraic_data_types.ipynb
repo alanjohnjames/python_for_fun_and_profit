{
 "cells": [
  {
   "cell_type": "markdown",
   "metadata": {},
   "source": [
    "# Algebaric Data Types in Python\n",
    "\n",
    "References and Web Links on Algebaric Data Types"
   ]
  },
  {
   "cell_type": "markdown",
   "metadata": {},
   "source": [
    "\n",
    "---\n",
    "## Pattern | Matched\n",
    "\n",
    "### Some things with mypy: sum and product types\n",
    "\n",
    "http://averagehat.github.io/posts/types.html\n",
    "\n",
    "`mypy` enables static typing in python. The features include defacto case-classes (using named tuples) and Union types. These are known more generally as “product types” and “sum types” respectively.\n",
    "\n"
   ]
  },
  {
   "cell_type": "code",
   "execution_count": null,
   "metadata": {},
   "outputs": [],
   "source": []
  }
 ],
 "metadata": {
  "kernelspec": {
   "display_name": "Python 3.6",
   "language": "python",
   "name": "python36"
  },
  "language_info": {
   "name": ""
  }
 },
 "nbformat": 4,
 "nbformat_minor": 2
}
