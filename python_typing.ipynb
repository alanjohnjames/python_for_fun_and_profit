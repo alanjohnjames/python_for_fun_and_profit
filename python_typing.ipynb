{
 "cells": [
  {
   "cell_type": "markdown",
   "metadata": {
    "collapsed": true
   },
   "source": [
    "# Python 3.6 typing\n",
    "\n",
    "Example taken from `typing` module documentation\n",
    "\n",
    "http://mypy.readthedocs.io/en/latest/python2.html#multi-line-python-2-function-annotations\n"
   ]
  },
  {
   "cell_type": "markdown",
   "metadata": {},
   "source": [
    "Add mypy type-checking cell magic to jupyter/ipython.\n",
    "\n",
    "http://journalpanic.com/post/spice-up-thy-jupyter-notebooks-with-mypy/\n",
    "\n",
    "https://gist.githubusercontent.com/knowsuchagency/f7b2203dd613756a45f816d6809f01a6/raw/c9c1b7ad9fa25a57ee1903d755d5525894ffa411/typecheck.py\n"
   ]
  },
  {
   "cell_type": "code",
   "execution_count": 1,
   "metadata": {},
   "outputs": [
    {
     "name": "stdout",
     "output_type": "stream",
     "text": [
      "Requirement already satisfied: mypy in /home/nbuser/anaconda3_501/lib/python3.6/site-packages\r\n",
      "Requirement already satisfied: typed-ast<1.2.0,>=1.1.0 in /home/nbuser/anaconda3_501/lib/python3.6/site-packages (from mypy)\r\n",
      "Requirement already satisfied: psutil<5.5.0,>=5.4.0 in /home/nbuser/anaconda3_501/lib/python3.6/site-packages (from mypy)\r\n"
     ]
    }
   ],
   "source": [
    "!pip install mypy"
   ]
  },
  {
   "cell_type": "code",
   "execution_count": 2,
   "metadata": {},
   "outputs": [],
   "source": [
    "\"\"\"\n",
    "Add mypy type-checking cell magic to jupyter/ipython.\n",
    "\n",
    "Save this script to your ipython profile's startup directory.\n",
    "\n",
    "IPython's directories can be found via `ipython locate [profile]` to find the current ipython directory and ipython profile directory, respectively.\n",
    "\n",
    "For example, this file could exist on a path like this on mac:\n",
    "\n",
    "/Users/yourusername/.ipython/profile_default/startup/typecheck.py\n",
    "\n",
    "where /Users/yourusername/.ipython/profile_default/ is the ipython directory for\n",
    "the default profile.\n",
    "\n",
    "The line magic is called \"typecheck\" to avoid namespace conflict with the mypy\n",
    "package.\n",
    "\n",
    "\"\"\"\n",
    "\n",
    "from IPython.core.magic import register_cell_magic\n",
    "\n",
    "\n",
    "@register_cell_magic\n",
    "def typecheck(line, cell):\n",
    "    \"\"\"\n",
    "    Run the following cell though mypy.\n",
    "\n",
    "    Any parameters that would normally be passed to the mypy cli\n",
    "    can be passed on the first line, with the exception of the\n",
    "    -c flag we use to pass the code from the cell we want to execute\n",
    "\n",
    "     i.e.\n",
    "\n",
    "    %%typecheck --ignore-missing-imports\n",
    "    ...\n",
    "    ...\n",
    "    ...\n",
    "\n",
    "    mypy stdout and stderr will print prior to output of cell. If there are no conflicts,\n",
    "    nothing will be printed by mypy.\n",
    "    \"\"\"\n",
    "\n",
    "    from IPython import get_ipython\n",
    "    from mypy import api\n",
    "\n",
    "    # inserting a newline at the beginning of the cell\n",
    "    # ensures mypy's output matches the the line\n",
    "    # numbers in jupyter\n",
    "\n",
    "    cell = '\\n' + cell\n",
    "\n",
    "    mypy_result = api.run(['-c', cell] + line.split())\n",
    "\n",
    "    if mypy_result[0]:  # print mypy stdout\n",
    "        print(mypy_result[0])\n",
    "\n",
    "    if mypy_result[1]:  # print mypy stderr\n",
    "        print(mypy_result[1])\n",
    "\n",
    "    shell = get_ipython()\n",
    "    shell.run_cell(cell)"
   ]
  },
  {
   "cell_type": "code",
   "execution_count": 3,
   "metadata": {},
   "outputs": [
    {
     "name": "stdout",
     "output_type": "stream",
     "text": [
      "<string>:8: error: Incompatible types in assignment (expression has type \"str\", variable has type \"int\")\n",
      "\n"
     ]
    },
    {
     "data": {
      "text/plain": [
       "'Notice the previous line was also printed out'"
      ]
     },
     "execution_count": 3,
     "metadata": {},
     "output_type": "execute_result"
    }
   ],
   "source": [
    "%%typecheck --ignore-missing-imports\n",
    "\n",
    "from sympy import sympify, init_printing\n",
    "init_printing()\n",
    "\n",
    "integer: int\n",
    "    \n",
    "integer = \"mypy won't like this\"\n",
    "\n",
    "sympify('(e**3)**(1/2)')\n",
    "\n",
    "\"Notice the previous line was also printed out\"\n"
   ]
  },
  {
   "cell_type": "code",
   "execution_count": 4,
   "metadata": {},
   "outputs": [
    {
     "name": "stdout",
     "output_type": "stream",
     "text": [
      "<string>:24: error: Argument 2 to \"method\" of \"Example\" has incompatible type \"str\"; expected \"int\"\n",
      "<string>:24: error: Argument 3 to \"method\" of \"Example\" has incompatible type \"int\"; expected \"str\"\n",
      "<string>:24: error: Argument 4 to \"method\" of \"Example\" has incompatible type \"str\"; expected \"bool\"\n",
      "\n",
      "Called `Example.method`...\n",
      "Called `Example.method`...\n"
     ]
    },
    {
     "data": {
      "image/png": "[encoded data removed]",
      "text/latex": [
       "$$0$$"
      ],
      "text/plain": [
       "0"
      ]
     },
     "execution_count": 4,
     "metadata": {},
     "output_type": "execute_result"
    }
   ],
   "source": [
    "%%typecheck --ignore-missing-imports\n",
    "\n",
    "from typing import List\n",
    "\n",
    "class Example:\n",
    "    def method(self,\n",
    "               lst:      List[str],\n",
    "               opt:      int=0,\n",
    "               *args:    str,\n",
    "               **kwargs: bool) -> int:\n",
    "        \"\"\"Doc string comes after type comment.\"\"\"\n",
    "        \n",
    "        print(\"Called `Example.method`...\")\n",
    "        \n",
    "        return 0\n",
    "\n",
    "    \n",
    "ex = Example()\n",
    "\n",
    "# Passes...\n",
    "ex.method(['A','B','C'], 99, '123.456', flag=True)\n",
    "\n",
    "# Fails...\n",
    "ex.method([], 'A', 123, flag='False')"
   ]
  },
  {
   "cell_type": "code",
   "execution_count": null,
   "metadata": {},
   "outputs": [],
   "source": []
  }
 ],
 "metadata": {
  "kernelspec": {
   "display_name": "Python 3.6",
   "language": "python",
   "name": "python36"
  },
  "language_info": {
   "codemirror_mode": {
    "name": "ipython",
    "version": 3
   },
   "file_extension": ".py",
   "mimetype": "text/x-python",
   "name": "python",
   "nbconvert_exporter": "python",
   "pygments_lexer": "ipython3",
   "version": "3.6.3"
  }
 },
 "nbformat": 4,
 "nbformat_minor": 2
}
