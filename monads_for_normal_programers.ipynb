{
 "cells": [
  {
   "cell_type": "markdown",
   "metadata": {},
   "source": [
    "# Monads for Normal Programmers\n",
    "\n",
    "http://blog.jorgenschaefer.de/2013/01/monads-for-normal-programmers.html"
   ]
  },
  {
   "cell_type": "markdown",
   "metadata": {},
   "source": [
    "## Example 1: jQuery"
   ]
  },
  {
   "cell_type": "markdown",
   "metadata": {},
   "source": [
    "jQuery is a JavaScript library for website manipulation. One of its main features is a monad. No one calls it that, though.\n",
    "\n",
    "```javascript\n",
    "$(\"#element\").find(\"ul\").parent().hide()\n",
    "\n",
    "```\n",
    "\n",
    "This expression searches for an element with the id #element, finds unsorted lists (ul) among the childs of that element, finds the parents of those childs, and hides them.\n",
    "\n",
    "Each of those expressions return an object representing a “set of matched elements” (I’m not even sure if jQuery defines a single name for that concept), and the same kind of methods can be applied to all such objects. This means you can chain such calls as shown above.\n",
    "\n",
    "Branching looks very similar:\n",
    "\n",
    "```javascript\n",
    "var lists = $(\"#element\").find(\"ul\");\n",
    "var parents = lists.parent();\n",
    "var list_items = lists.children(\"li\");\n",
    "\n",
    "```\n",
    "\n",
    "In this example, we first split up the original query. The variable lists now contains an object representing the set of unsorted list tags under the #element tag. We can now re-use this set. First, we find the parent elements of those unsorted lists. Then we find their list items.\n",
    "\n",
    "Because every one of those calls returns the same kind of object which provides the same methods which all return such objects, we were able to both simply chain multiple calls to each other, but also to sort of cache an intermediate result and split execution from that point.\n",
    "\n",
    "Both are very powerful programming methods.\n"
   ]
  },
  {
   "cell_type": "markdown",
   "metadata": {},
   "source": [
    "## Example 2: Django Query Sets\n",
    "\n"
   ]
  },
  {
   "cell_type": "markdown",
   "metadata": {},
   "source": [
    "With its queryset objects, Django provides a monad for database abstractions. A query set represents a partially-constructed SQL statement. By using method application, you can successively build the expression.\n",
    "\n",
    "https://docs.djangoproject.com/en/2.0/topics/db/queries/\n",
    "\n",
    "\n",
    "> BTW: Just look at all the cruft you need to do - just to use the Django ORM models\n",
    "> https://stackoverflow.com/questions/937742/use-django-orm-as-standalone\n",
    "\n",
    "```python\n",
    "Book.objects.filter(author=\"Bernard Cornwell\")\n",
    "            .exclude(series=\"The Sharpe stories\")\n",
    "```\n",
    "\n",
    "Chaining has an extremely useful application in combination with conditions:\n",
    "\n",
    "```python\n",
    "books = Book.objects.all()\n",
    "if author is not None:\n",
    "   books = books.filter(author=author)\n",
    "if year is not None:\n",
    "   books = books.filter(year=year)\n",
    "```\n",
    "\n",
    "In this case, the links of the chain are added conditionally depending on specified options, for example to a function. This is a very powerful implication of the ability to chain monadic types.\n",
    "\n",
    "Branching works, too:\n",
    "\n",
    "```python\n",
    "cornwell = Book.objects.filter(author=\"Bernard Cornwell\")\n",
    "older = cornwell.filter(published__lt=\"2000\")\n",
    "new = cornwell.filter(published__gt=\"2010\")\n",
    "```\n",
    "\n",
    "One of the main drawbacks of SQL is that it’s so difficult to compose statements. Even just adding a simple added WHERE clause is complicated enough, successively adding queries to other tables and other more complex problems is almost impossible. Abstracting them using monadic types allows for very strong compositability.\n",
    "\n"
   ]
  },
  {
   "cell_type": "markdown",
   "metadata": {},
   "source": [
    "## Type Theory\n",
    "So far, you have kindly just believed me that those examples actually are monads. Let me fulfill my promise from earlier and show that they actually are. And not only that, but also that all monads are like that. That is, that the following definition is equivalent to the type theoretical definition of monads:\n",
    "\n",
    "On short...\n",
    "\n",
    "> A Monad is an object whose methods return monads.\n"
   ]
  },
  {
   "cell_type": "markdown",
   "metadata": {},
   "source": [
    "## Addendum: Monad Laws\n",
    "\n",
    "The first two monad laws are about identy, namely that bind and unit form left and right identities.\n",
    "\n",
    "```python\n",
    "bind(unit(x), f) == f(x)\n",
    "```\n",
    "\n",
    "The second identity law is as follows.\n",
    "\n",
    "```python\n",
    "bind(m, unit) == m\n",
    "```\n",
    "\n",
    "The third law is the most complex.\n",
    "\n",
    "```python\n",
    "(m >>= f) >>= g ≡ m >>= ( \\x -> (f x >>= g) )\n",
    "```\n",
    "\n",
    "Or, to write it in our syntax:\n",
    "\n",
    "```python\n",
    "m().f().g() ≡  m().fun()\n",
    "fun(x) ::= f(x).g()\n",
    "```\n",
    "\n",
    "m().fun() is fun(m()). Expanding that function gives us f(m()).g(), which in turn gives us g(f(m())). Which actually is the same as m().f().g().\n"
   ]
  },
  {
   "cell_type": "markdown",
   "metadata": {},
   "source": [
    "# Monads for Normal Programmers (part 2)\n",
    "\n"
   ]
  },
  {
   "cell_type": "markdown",
   "metadata": {},
   "source": [
    "## Finding Monads\n",
    "\n",
    "Let’s start with a concrete problem. What I would like is a class which encapsulates chained mathematical operations.\n",
    "\n",
    "```python\n",
    ">>> MathOp(5)\n",
    "<MathOp 5>\n",
    ">>> MathOp(5).mul(2)\n",
    "<MathOp 10>\n",
    ">>> MathOp(5).mul(2).add(17)\n",
    "<MathOp 27>\n",
    ">>> MathOp(5).mul(2).add(17).sub(4)\n",
    "<MathOp 23>\n",
    "```\n",
    "\n",
    "So far, so simple, but let’s add a twist. If there is a div(0) anywhere in the chain, we don’t want to raise an exception, but to have the whole chain return a NaN.\n",
    "\n",
    "```python\n",
    ">>> MathOp(5).div(0)\n",
    "<MathOp NaN>\n",
    ">>> MathOp(5).div(0).mul(2)\n",
    "<MathOp NaN>\n",
    ">>> MathOp(5).div(0).mul(2).add(17)\n",
    "<MathOp NaN>\n",
    ">>> MathOp(5).div(0).mul(2).add(17).sub(4)\n",
    "<MathOp NaN>\n",
    "```"
   ]
  },
  {
   "cell_type": "markdown",
   "metadata": {},
   "source": [
    "## Step 1: Trivial Implementation\n",
    "\n",
    "The first implementation of this is straightforward and simple."
   ]
  },
  {
   "cell_type": "code",
   "execution_count": 97,
   "metadata": {},
   "outputs": [],
   "source": [
    "class MathOp(object):\n",
    "    def __init__(self, value=None, is_nan=False):\n",
    "        self.value = value\n",
    "        self.is_nan = is_nan\n",
    "\n",
    "    def __repr__(self):\n",
    "        if self.is_nan:\n",
    "            return \"<MathOp NaN>\"\n",
    "        else:\n",
    "            return \"<MathOp {}>\".format(self.value)\n",
    "\n",
    "    def div(self, denum):\n",
    "        if self.is_nan:\n",
    "            return self\n",
    "        elif denum == 0:\n",
    "            return MathOp(is_nan=True)\n",
    "        else:\n",
    "            return MathOp(self.value / denum)\n",
    "\n",
    "    def mul(self, multiplicand):\n",
    "        if self.is_nan:\n",
    "            return self\n",
    "        else:\n",
    "            return MathOp(self.value * multiplicand)\n",
    "\n",
    "    def add(self, multiplicand):\n",
    "        if self.is_nan:\n",
    "            return self\n",
    "        else:\n",
    "            return MathOp(self.value + multiplicand)\n",
    "\n",
    "    def sub(self, multiplicand):\n",
    "        if self.is_nan:\n",
    "            return self\n",
    "        else:\n",
    "            return MathOp(self.value - multiplicand)"
   ]
  },
  {
   "cell_type": "markdown",
   "metadata": {},
   "source": [
    "## Step 2: Bind\n",
    "\n",
    "When you look at that code, you will notice that all the methods implementing math operations share the same test for is_nan. This repetitive code could be abstracted out into a common pattern, maybe using a decorator."
   ]
  },
  {
   "cell_type": "code",
   "execution_count": 98,
   "metadata": {},
   "outputs": [],
   "source": [
    "from functools import wraps "
   ]
  },
  {
   "cell_type": "code",
   "execution_count": 99,
   "metadata": {},
   "outputs": [],
   "source": [
    "def mathop(method):\n",
    "    @wraps(method)\n",
    "    def math_method(self, *args, **kwargs):\n",
    "        if self.is_nan:\n",
    "            return self\n",
    "        else:\n",
    "            return method(self, *args, **kwargs)\n",
    "    return math_method"
   ]
  },
  {
   "cell_type": "markdown",
   "metadata": {},
   "source": [
    "This lets us write the class a bit more succinctly:"
   ]
  },
  {
   "cell_type": "code",
   "execution_count": 100,
   "metadata": {},
   "outputs": [],
   "source": [
    "class MathOp(object):\n",
    "    def __init__(self, value=None, is_nan=False):\n",
    "        self.value = value\n",
    "        self.is_nan = is_nan\n",
    "\n",
    "    def __repr__(self):\n",
    "        if self.is_nan:\n",
    "            return \"<MathOp NaN>\"\n",
    "        else:\n",
    "            return \"<MathOp {}>\".format(self.value)\n",
    "\n",
    "    @mathop\n",
    "    def div(self, denum):\n",
    "        if denum == 0:\n",
    "            return MathOp(is_nan=True)\n",
    "        else:\n",
    "            return MathOp(self.value / denum)\n",
    "\n",
    "    @mathop\n",
    "    def mul(self, multiplicand):\n",
    "        return MathOp(self.value * multiplicand)\n",
    "\n",
    "    @mathop\n",
    "    def add(self, addend):\n",
    "        return MathOp(self.value + addend)\n",
    "\n",
    "    @mathop\n",
    "    def sub(self, subtrahend):\n",
    "        return MathOp(self.value - subtrahend)"
   ]
  },
  {
   "cell_type": "markdown",
   "metadata": {},
   "source": [
    "This common pattern is called bind in monad theory. If you remember my last article, I noted that bind is method application. This here now is the implementation of that idea. Bind influences how methods are applied.\n",
    "\n",
    "To make the idea more general, we could define a bind method in our class and make our decorator call that instead."
   ]
  },
  {
   "cell_type": "code",
   "execution_count": 101,
   "metadata": {},
   "outputs": [],
   "source": [
    "def bound(method):\n",
    "    @wraps(method)\n",
    "    def bound_method(self, *args, **kwargs):\n",
    "        return self.bind(method, args, kwargs)\n",
    "    return bound_method"
   ]
  },
  {
   "cell_type": "markdown",
   "metadata": {},
   "source": [
    "By defining the bind magic in the class itself, we can re-use this decorator in different subclasses."
   ]
  },
  {
   "cell_type": "code",
   "execution_count": 102,
   "metadata": {},
   "outputs": [],
   "source": [
    "class MathOp(object):\n",
    "    def __init__(self, value=None, is_nan=False):\n",
    "        self.value = value\n",
    "        self.is_nan = is_nan\n",
    "\n",
    "    def __repr__(self):\n",
    "        if self.is_nan:\n",
    "            return \"<MathOp NaN>\"\n",
    "        else:\n",
    "            return \"<MathOp {}>\".format(self.value)\n",
    "\n",
    "    def __eq__(self, mathop):\n",
    "        return (self.is_nan == mathop.is_nan) & (self.value == mathop.value)\n",
    "\n",
    "    def bind(self, method, args, kwargs):\n",
    "        if self.is_nan:\n",
    "            return self\n",
    "        else:\n",
    "            return method(self, *args, **kwargs)\n",
    "\n",
    "    @bound\n",
    "    def div(self, denum):\n",
    "        if denum == 0:\n",
    "            return MathOp(is_nan=True)\n",
    "        else:\n",
    "            return MathOp(self.value / denum)\n",
    "\n",
    "    @bound\n",
    "    def mul(self, multiplicand):\n",
    "        return MathOp(self.value * multiplicand)\n",
    "\n",
    "    @bound\n",
    "    def add(self, addend):\n",
    "        return MathOp(self.value + addend)\n",
    "\n",
    "    @bound\n",
    "    def sub(self, subtrahend):\n",
    "        return MathOp(self.value - subtrahend)"
   ]
  },
  {
   "cell_type": "code",
   "execution_count": 103,
   "metadata": {},
   "outputs": [
    {
     "name": "stdout",
     "output_type": "stream",
     "text": [
      "True\n",
      "True\n",
      "True\n",
      "True\n"
     ]
    }
   ],
   "source": [
    "print(MathOp(5) == MathOp(5))\n",
    "print(MathOp(5).mul(2) == MathOp(10))\n",
    "print(MathOp(5).mul(2).add(17) == MathOp(27))\n",
    "print(MathOp(5).mul(2).add(17).sub(4) == MathOp(23))"
   ]
  },
  {
   "cell_type": "code",
   "execution_count": 104,
   "metadata": {},
   "outputs": [
    {
     "name": "stdout",
     "output_type": "stream",
     "text": [
      "True\n",
      "True\n",
      "True\n",
      "True\n"
     ]
    }
   ],
   "source": [
    "print(MathOp(5).div(0) == MathOp(is_nan=True))\n",
    "print(MathOp(5).div(0).mul(2) == MathOp(is_nan=True))\n",
    "print(MathOp(5).div(0).mul(2).add(17) == MathOp(is_nan=True))\n",
    "print(MathOp(5).div(0).mul(2).add(17).sub(4) == MathOp(is_nan=True))\n"
   ]
  },
  {
   "cell_type": "markdown",
   "metadata": {},
   "source": [
    "This is the main part of the monad design pattern: We can abstract away some specifics related to method application by using a decorator that calls the bind method for us first.\n",
    "\n",
    "Admittedly, the name bind is terrible, but it’s what the monad theory uses. Use something more intuitive when you actually use this pattern.\n",
    "\n",
    "Note: It is possible to use metaclasses to make all methods of a class use bind by default. This then requires a decorator for methods that should not be passed through bind. It also adds a lot of magic which I do not think helps understanding at all."
   ]
  },
  {
   "cell_type": "markdown",
   "metadata": {},
   "source": [
    "## Step 3: Maybe Monad\n",
    "\n",
    "You can probably see that what we implemented here is again an example of a generic pattern: A chain of operations continues until a “bad” value happens, then all following operations just pass on the bad value. This is useful for mathematical operations, but it could be useful for other things, too, if throwing an exception is not a sensible solution. Some languages even implement exceptions using this pattern.\n",
    "\n",
    "This generic pattern is called the maybe monad.\n"
   ]
  },
  {
   "cell_type": "code",
   "execution_count": 105,
   "metadata": {},
   "outputs": [],
   "source": [
    "class MaybeMonad(object):\n",
    "    is_nothing = False\n",
    "\n",
    "    def bind(self, method, args, kwargs):\n",
    "        if self.is_nothing:\n",
    "            return self\n",
    "        else:\n",
    "            return method(self, *args, **kwargs)"
   ]
  },
  {
   "cell_type": "markdown",
   "metadata": {},
   "source": [
    "We can subclass this to implement our math operation. As the is_nothing field is now available on the class level, we can simply define our NaN value as a subclass of MathOp. This would be a good place for a singleton, but that’s a bit outside of the topic of this article."
   ]
  },
  {
   "cell_type": "code",
   "execution_count": 106,
   "metadata": {},
   "outputs": [],
   "source": [
    "class MathOp(MaybeMonad):\n",
    "    is_nothing = False\n",
    "\n",
    "    def __init__(self, value):\n",
    "        self.value = value\n",
    "\n",
    "    def __repr__(self):\n",
    "        return \"<MathOp {}>\".format(self.value)\n",
    "\n",
    "    def __eq__(self, mathop):\n",
    "        return (self.is_nothing == mathop.is_nothing) & (self.value == mathop.value)\n",
    "\n",
    "    @bound\n",
    "    def div(self, denum):\n",
    "        if denum == 0:\n",
    "            return MathOpNaN()\n",
    "        else:\n",
    "            return MathOp(self.value / denum)\n",
    "\n",
    "    @bound\n",
    "    def mul(self, multiplicand):\n",
    "        return MathOp(self.value * multiplicand)\n",
    "\n",
    "    @bound\n",
    "    def add(self, addend):\n",
    "        return MathOp(self.value + addend)\n",
    "\n",
    "    @bound\n",
    "    def sub(self, subtrahend):\n",
    "        return MathOp(self.value - subtrahend)\n",
    "\n",
    "class MathOpNaN(MathOp):\n",
    "    is_nothing = True\n",
    "\n",
    "    def __init__(self):\n",
    "        super(MathOpNaN, self).__init__(None)\n",
    "\n",
    "    def __repr__(self):\n",
    "        return \"<MathOp NaN>\""
   ]
  },
  {
   "cell_type": "code",
   "execution_count": 107,
   "metadata": {},
   "outputs": [
    {
     "name": "stdout",
     "output_type": "stream",
     "text": [
      "True\n",
      "True\n",
      "True\n",
      "True\n"
     ]
    }
   ],
   "source": [
    "print(MathOp(5) == MathOp(5))\n",
    "print(MathOp(5).mul(2) == MathOp(10))\n",
    "print(MathOp(5).mul(2).add(17) == MathOp(27))\n",
    "print(MathOp(5).mul(2).add(17).sub(4) == MathOp(23))"
   ]
  },
  {
   "cell_type": "code",
   "execution_count": 129,
   "metadata": {},
   "outputs": [
    {
     "name": "stdout",
     "output_type": "stream",
     "text": [
      "True\n",
      "True\n",
      "True\n",
      "True\n"
     ]
    }
   ],
   "source": [
    "print(MathOp(5).div(0) == MathOpNaN())\n",
    "print(MathOp(5).div(0).mul(2) == MathOpNaN())\n",
    "print(MathOp(5).div(0).mul(2).add(17) == MathOpNaN())\n",
    "print(MathOp(5).div(0).mul(2).add(17).sub(4) == MathOpNaN())"
   ]
  },
  {
   "cell_type": "markdown",
   "metadata": {},
   "source": [
    "## Step 4: Monads!\n",
    "\n",
    "So our MathOp class is an instance of a generic design pattern, called the Maybe Monad. The same design pattern can be used for other purposes.\n",
    "\n",
    "A step further though, the Maybe Monad is itself an instance of an even more generic design pattern. This more generic design pattern is about the ability to chain method calls, and to override what method application does, exactly. This more general design pattern is, as you likely guessed, the Monad."
   ]
  },
  {
   "cell_type": "code",
   "execution_count": 130,
   "metadata": {},
   "outputs": [],
   "source": [
    "class Monad(object):\n",
    "    def bind(self, method, args, kwargs):\n",
    "        return method(self, *args, **kwargs)\n",
    "\n",
    "def bound(method):\n",
    "    @wraps(method)\n",
    "    def bound_method(self, *args, **kwargs):\n",
    "        result = self.bind(method, args, kwargs)\n",
    "        assert(isinstance(result, Monad))\n",
    "        return result\n",
    "    return bound_method"
   ]
  },
  {
   "cell_type": "markdown",
   "metadata": {},
   "source": [
    "This example code for bound enforces that the result of bind actually is a monad itself. That’s not something we need to do in a dynamically typed language like Python, but it highlights one of the theoretical requirements of monads.\n",
    "\n",
    "We can now use this meta-pattern to define our MaybeMonad."
   ]
  },
  {
   "cell_type": "code",
   "execution_count": 133,
   "metadata": {},
   "outputs": [],
   "source": [
    "class MaybeMonad(Monad):\n",
    "    is_nothing = False\n",
    "\n",
    "    def bind(self, method, args, kwargs):\n",
    "        if self.is_nothing:\n",
    "            return self\n",
    "        else:\n",
    "            return method(self, *args, **kwargs)"
   ]
  },
  {
   "cell_type": "markdown",
   "metadata": {},
   "source": [
    "And in turn, we can use this MaybeMonad pattern to define the MathOp class."
   ]
  },
  {
   "cell_type": "code",
   "execution_count": 136,
   "metadata": {},
   "outputs": [],
   "source": [
    "class MathOp(MaybeMonad):\n",
    "    is_nothing = False\n",
    "\n",
    "    def __init__(self, value):\n",
    "        self.value = value\n",
    "\n",
    "    def __repr__(self):\n",
    "        return \"<MathOp {}>\".format(self.value)\n",
    "\n",
    "    def __eq__(self, mathop):\n",
    "        return (self.is_nothing == mathop.is_nothing) & (self.value == mathop.value)\n",
    "\n",
    "    @bound\n",
    "    def div(self, denum):\n",
    "        if denum == 0:\n",
    "            return MathOpNaN()\n",
    "        else:\n",
    "            return MathOp(self.value / denum)\n",
    "\n",
    "    @bound\n",
    "    def mul(self, multiplicand):\n",
    "        return MathOp(self.value * multiplicand)\n",
    "\n",
    "    @bound\n",
    "    def add(self, addend):\n",
    "        return MathOp(self.value + addend)\n",
    "\n",
    "    @bound\n",
    "    def sub(self, subtrahend):\n",
    "        return MathOp(self.value - subtrahend)\n",
    "\n",
    "class MathOpNaN(MathOp):\n",
    "    is_nothing = True\n",
    "\n",
    "    def __init__(self):\n",
    "        super(MathOpNaN, self).__init__(None)\n",
    "\n",
    "    def __repr__(self):\n",
    "        return \"<MathOp NaN>\""
   ]
  },
  {
   "cell_type": "code",
   "execution_count": 137,
   "metadata": {},
   "outputs": [
    {
     "name": "stdout",
     "output_type": "stream",
     "text": [
      "True\n",
      "True\n",
      "True\n",
      "True\n"
     ]
    }
   ],
   "source": [
    "print(MathOp(5) == MathOp(5))\n",
    "print(MathOp(5).mul(2) == MathOp(10))\n",
    "print(MathOp(5).mul(2).add(17) == MathOp(27))\n",
    "print(MathOp(5).mul(2).add(17).sub(4) == MathOp(23))"
   ]
  },
  {
   "cell_type": "code",
   "execution_count": 138,
   "metadata": {},
   "outputs": [
    {
     "name": "stdout",
     "output_type": "stream",
     "text": [
      "True\n",
      "True\n",
      "True\n",
      "True\n"
     ]
    }
   ],
   "source": [
    "print(MathOp(5).div(0) == MathOpNaN())\n",
    "print(MathOp(5).div(0).mul(2) == MathOpNaN())\n",
    "print(MathOp(5).div(0).mul(2).add(17) == MathOpNaN())\n",
    "print(MathOp(5).div(0).mul(2).add(17).sub(4) == MathOpNaN())"
   ]
  },
  {
   "cell_type": "markdown",
   "metadata": {},
   "source": [
    "## Conclusions\n",
    "\n",
    "In a sense, we have now created an abstraction tower.\n",
    "\n",
    "The term monad refers to a very generic pattern about objects whose methods return monadic objects so that method calls can be chained, together with a generic way with which the application of those methods can be influenced.\n",
    "\n",
    "Using this general pattern, we can define more specific patterns that use the general pattern for more specific purposes. The Maybe Monad is one example of this, but there are many others. These are still patterns, not concrete, useful classes, though.\n",
    "\n",
    "We then can take this monadic pattern and create a specific class which implements this pattern and finally have something useful.\n",
    "\n",
    "Monads are meta patterns for specific monadic structures, which are patterns for actually useful classes.\n",
    "\n",
    "And just like with other design patterns, the important part is not that you create the full abstraction tower in your code, it’s that you use the pattern. A class that implements a singleton is still a singleton, even if it does not inherit from a singleton abstract class. A factory method is still a factory method, even if it does not implement an abstract factory method interface.\n",
    "\n",
    "This is especially true for dynamically-typed languages, and probably the greatest source of confusion for people coming from the statically typed world. Python objects do not need a rigid type hierarchy and type checks to implement patterns that require careful consideration for the type system in other languages.\n",
    "\n",
    "The first implementation we used here is still monadic, even though we did not make bind explicit. It’s useful to see that there is a common pattern there, but it’s not necessary to actually make this pattern explicit in your code. If you have your software engineer hat on, your goal is to create programs that solve problems, and this is the most important thing you care about.\n",
    "\n",
    "On the other hand, if you are wearing your computer scientist hat, your focus is on analyzing the patterns in programs first, and solving real-world problems only second. This is where it becomes important to split up those patterns, to make sure you know exactly what you are talking about and how the different concepts interact."
   ]
  },
  {
   "cell_type": "markdown",
   "metadata": {},
   "source": [
    "## State Monad\n",
    "\n",
    "Let’s add some complexity. The state monad is a design pattern where you use method chaining to create a computation. The resulting computation then can be run against various inputs (initial states). This is a very handy pattern for all sorts of tasks, like creating a pattern matcher from a pattern specification or pre-computing a composable sequence of actions.\n",
    "\n",
    "The basic idea is that we define methods in our monad instances that add computations. At the end, we call the accumulated function with an initial state. That state then is passed through the accumulated computation.\n",
    "\n",
    "Our goal is a simple game (courtesy of haskell.org). This game is played in moves. Each move is either an a, a b, or a c. If the game is on, an a will add one point and b will deduce one point. If the game is off, neither one does anything. A c will toggle the game between on and off. The game starts in the off state.\n",
    "\n",
    "```python\n",
    ">>> start_state = (False, 0)\n",
    ">>> Game().move('a').move('b').run(start_state)\n",
    "(False, 0)\n",
    ">>> game = Game().move('c').move('a')\n",
    ">>> game.run(start_state)\n",
    "(True, 1)\n",
    ">>> game.move('b').move('c').move('a').run(start_state)\n",
    "(False, 0)\n",
    "```\n",
    "\n",
    "We can start by defining a very skeleton StateMonad class. We want to store a computation (function), and when we’re done building the computation, we want to run that computation on a start state."
   ]
  },
  {
   "cell_type": "code",
   "execution_count": 140,
   "metadata": {},
   "outputs": [],
   "source": [
    "class StateMonad(Monad):\n",
    "    def __init__(self, function=lambda x: x):\n",
    "        self.function = function\n",
    "\n",
    "    def run(self, state):\n",
    "        return self.function(state)"
   ]
  },
  {
   "cell_type": "markdown",
   "metadata": {},
   "source": [
    "This isn’t too exciting yet. The default computation even is a real no-op, simply returning what we pass in. But we’re still looking for this generic pattern, not so much writing it down right away.\n",
    "\n",
    "The first attempt below defines a method in move, which represents the computation which we simply accumulate during the chaining process. Once the game is done, we simply run the resulting game by applying the function to the initial state."
   ]
  },
  {
   "cell_type": "code",
   "execution_count": 141,
   "metadata": {},
   "outputs": [],
   "source": [
    "class Game(StateMonad):\n",
    "    def move(self, char):\n",
    "        def transformer(state):\n",
    "            on, score = self.function(state)\n",
    "            if char == 'a' and on:\n",
    "                return (on, score + 1)\n",
    "            elif char == 'b' and on:\n",
    "                return (on, score - 1)\n",
    "            elif char == 'c':\n",
    "                return (not on, score)\n",
    "            else:\n",
    "                return (on, score)\n",
    "        return Game(transformer)"
   ]
  },
  {
   "cell_type": "markdown",
   "metadata": {},
   "source": [
    "Each computation calls the former computation (self.function), and adds something to its result.\n",
    "\n",
    "The pattern you can see here is the nested method. On the first pass, when the methods are chained, only move is called, passing in the char parameter. On the second pass, when the resulting game function is applied to the initial state, the inner transformer function is called and actually does the state transition. This is a perfectly fine solution for us, and probably all you’ll ever use in Python when you use this kind of pattern, but as we’re looking at formalizing design patterns, we can try and abstract this further.\n",
    "\n",
    "The following bind implementation captures the pattern we established above, making the code a bit cleaner:"
   ]
  },
  {
   "cell_type": "code",
   "execution_count": 142,
   "metadata": {},
   "outputs": [],
   "source": [
    "class Game(StateMonad):\n",
    "    def bind(self, method, args, kwargs):\n",
    "        def transformer(old_state):\n",
    "            current_state = self.run(old_state)\n",
    "            new_state = method(self, current_state,\n",
    "                               *args, **kwargs)\n",
    "            return new_state\n",
    "        return Game(transformer)\n",
    "\n",
    "    @bound\n",
    "    def move(self, state, char):\n",
    "        on, score = state\n",
    "        if char == 'a' and on:\n",
    "            return (on, score + 1)\n",
    "        elif char == 'b' and on:\n",
    "            return (on, score - 1)\n",
    "        elif char == 'c':\n",
    "            return (not on, score)\n",
    "        else:\n",
    "            return (on, score)"
   ]
  },
  {
   "cell_type": "markdown",
   "metadata": {},
   "source": [
    "So far, so good. For a general pattern, though, it would be really nice if our move method could return a whole series of transitions, not just a single new state. But if this method can return a chained game, then we need a state to run that returned value on.\n",
    "\n",
    "```python\n",
    "    def bind(self, method, args, kwargs):\n",
    "        def transformer(old_state):\n",
    "            current_state = self.run(old_state)\n",
    "            new_game = method(self, current_state,\n",
    "                              *args, **kwargs)\n",
    "            new_state = new_game.run(???)\n",
    "            return new_state\n",
    "        return Game(transformer)\n",
    "```\n",
    "\n",
    "The ??? there can be solved by having run return two values, a value and a state. The value is passed to the method, and the state to the run method of the response of the game.\n",
    "\n",
    "```python\n",
    "    def bind(self, method, args, kwargs):\n",
    "        def transformer(old_state):\n",
    "            value, current_state = self.run(old_state)\n",
    "            new_game = method(self, value, *args, **kwargs)\n",
    "            new_value, new_state = new_game.run(current_state)\n",
    "            return new_value, new_state\n",
    "        return Game(transformer)\n",
    "```\n",
    "\n",
    "So a run of a chained game now returns two values. The first value is passed to the next method, while the second value is passed to the composed state transition functions we create within those methods.\n",
    "\n",
    "This requires some changes. First, we change run so it returns only the first of the tuple returned, because that’s the actual value. Then we define a _run internal method that returns the tuple for internal use (in bind).\n"
   ]
  },
  {
   "cell_type": "code",
   "execution_count": 143,
   "metadata": {},
   "outputs": [],
   "source": [
    "def run(self, state):\n",
    "    return self.get().function(state)[0]\n",
    "\n",
    "def _run(self, state):\n",
    "    return self.function(state)"
   ]
  },
  {
   "cell_type": "code",
   "execution_count": null,
   "metadata": {},
   "outputs": [],
   "source": []
  }
 ],
 "metadata": {
  "kernelspec": {
   "display_name": "Python 2",
   "language": "python",
   "name": "python2"
  },
  "language_info": {
   "codemirror_mode": {
    "name": "ipython",
    "version": 2
   },
   "file_extension": ".py",
   "mimetype": "text/x-python",
   "name": "python",
   "nbconvert_exporter": "python",
   "pygments_lexer": "ipython2",
   "version": "2.7.14"
  }
 },
 "nbformat": 4,
 "nbformat_minor": 2
}
