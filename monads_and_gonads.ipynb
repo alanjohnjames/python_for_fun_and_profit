{
 "cells": [
  {
   "cell_type": "markdown",
   "metadata": {},
   "source": [
    "# Monads and Gonads\n",
    "\n",
    "## Google Tech Talk\n",
    "\n",
    "https://www.youtube.com/watch?v=b0EF0VTs9Dc\n",
    "\n",
    "\n",
    "From the YouTube comments...\n",
    "\n",
    "* *M* means `large plastic bag containing...`.\n",
    "* *t* means `small bag of peanuts`.\n",
    "* *u* means peanut.\n",
    "\n",
    "So *M t* means 'large plastic bag containing small bags of peanuts' and 'M u' means 'large plastic bag of peanuts'. \n",
    "\n",
    "The thing in the middle `(t -> Mu)` means 'open a bag of peanuts and empty it into a big plastic bag'.\n",
    "\n",
    "So the whole thing says:\n",
    "    \"take a large plastic bag containing many small bags of peanuts, open each bag of peanuts and empty it into another large plastic bag, and you will end up with a large plastic bag full of peanuts.\"\n",
    "    \n",
    "No mention is made of what happens to all the empty leftover bags, but don't worry: they are automatically recycled (unless you're using C/C++).\n",
    "\n"
   ]
  },
  {
   "cell_type": "markdown",
   "metadata": {},
   "source": [
    "**TODO**: Change kernel fof this notebook to Javascript\n",
    "\n",
    "https://github.com/n-riesco/ijavascript\n"
   ]
  },
  {
   "cell_type": "code",
   "execution_count": null,
   "metadata": {},
   "outputs": [],
   "source": []
  }
 ],
 "metadata": {
  "kernelspec": {
   "display_name": "Python 2",
   "language": "python",
   "name": "python2"
  },
  "language_info": {
   "codemirror_mode": {
    "name": "ipython",
    "version": 2
   },
   "file_extension": ".py",
   "mimetype": "text/x-python",
   "name": "python",
   "nbconvert_exporter": "python",
   "pygments_lexer": "ipython2",
   "version": "2.7.14"
  }
 },
 "nbformat": 4,
 "nbformat_minor": 2
}
