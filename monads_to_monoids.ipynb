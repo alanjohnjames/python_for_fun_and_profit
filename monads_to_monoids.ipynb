{
 "cells": [
  {
   "cell_type": "markdown",
   "metadata": {},
   "source": [
    "# Monoids to Monads\n",
    "\n",
    "https://chjdev.com/2014/12/09/monoids-monads-python/\n"
   ]
  },
  {
   "cell_type": "markdown",
   "metadata": {},
   "source": [
    "# Function Composition"
   ]
  },
  {
   "cell_type": "code",
   "execution_count": null,
   "metadata": {},
   "outputs": [],
   "source": [
    "def f(x: int) -> int: return ~x\n",
    "def g(x: int) -> int: return x ** 2\n",
    "def h(x: int) -> int: return 2 * x"
   ]
  },
  {
   "cell_type": "code",
   "execution_count": null,
   "metadata": {},
   "outputs": [],
   "source": [
    "f?"
   ]
  },
  {
   "cell_type": "code",
   "execution_count": null,
   "metadata": {},
   "outputs": [],
   "source": [
    "x = 1\n",
    "print(f(g(h(x))) == -5)\n",
    "print(h(g(f(x))) == 8)"
   ]
  },
  {
   "cell_type": "code",
   "execution_count": null,
   "metadata": {},
   "outputs": [],
   "source": [
    "def combine(x: '(int) -> int', y: '(int) -> int') -> '(int) -> int':\n",
    "    return lambda _: x(y(_))"
   ]
  },
  {
   "cell_type": "code",
   "execution_count": null,
   "metadata": {},
   "outputs": [],
   "source": [
    "combine?"
   ]
  },
  {
   "cell_type": "code",
   "execution_count": null,
   "metadata": {},
   "outputs": [],
   "source": [
    "print(combine(f, combine(g, h))(x) == combine(combine(f, g), h)(x) == -5)"
   ]
  },
  {
   "cell_type": "markdown",
   "metadata": {},
   "source": [
    "## Infix Operators\n",
    "\n",
    "http://code.activestate.com/recipes/384122/"
   ]
  },
  {
   "cell_type": "code",
   "execution_count": null,
   "metadata": {},
   "outputs": [],
   "source": [
    "# http://code.activestate.com/recipes/384122/\n",
    "\n",
    "class Infix:\n",
    "    def __init__(self, function):\n",
    "        self.function = function\n",
    "    def __ror__(self, other):\n",
    "        return Infix(lambda x, self=self, other=other: self.function(other, x))\n",
    "    def __or__(self, other):\n",
    "        return self.function(other)\n",
    "    def __rlshift__(self, other):\n",
    "        return Infix(lambda x, self=self, other=other: self.function(other, x))\n",
    "    def __rshift__(self, other):\n",
    "        return self.function(other)\n",
    "    def __call__(self, value1, value2):\n",
    "        return self.function(value1, value2)\n"
   ]
  },
  {
   "cell_type": "code",
   "execution_count": null,
   "metadata": {},
   "outputs": [],
   "source": [
    "ø = Infix(combine)\n",
    "print((f |ø| g |ø| h)(x) != (h |ø| g |ø| f)(x))\n",
    "print((f |ø| g |ø| h)(x) == f(g(h(x))))"
   ]
  },
  {
   "cell_type": "markdown",
   "metadata": {},
   "source": [
    "## The Trivial Monad"
   ]
  },
  {
   "cell_type": "code",
   "execution_count": null,
   "metadata": {},
   "outputs": [],
   "source": [
    "class Trivial():\n",
    "    def __init__(self, value):\n",
    "        self._value = value\n",
    "\n",
    "    def __call__(self, *args, **kwargs):\n",
    "        return self._value"
   ]
  },
  {
   "cell_type": "code",
   "execution_count": null,
   "metadata": {},
   "outputs": [],
   "source": [
    "def tf(x: int) -> Trivial: return Trivial(f(x))\n",
    "def tg(x: int) -> Trivial: return Trivial(g(x))\n",
    "def th(x: int) -> Trivial: return Trivial(h(x))"
   ]
  },
  {
   "cell_type": "code",
   "execution_count": null,
   "metadata": {},
   "outputs": [],
   "source": [
    "def bind(what: Trivial, other: '(a) -> Trivial') -> Trivial:\n",
    "    return other(what())"
   ]
  },
  {
   "cell_type": "code",
   "execution_count": 12,
   "metadata": {},
   "outputs": [],
   "source": [
    "programA = (lambda a: bind(th(a),\n",
    "              lambda b: bind(tg(b),\n",
    "                lambda c: tf(c))))(x)"
   ]
  },
  {
   "cell_type": "code",
   "execution_count": 13,
   "metadata": {},
   "outputs": [
    {
     "data": {
      "text/plain": [
       "\u001b[0;31mSignature:\u001b[0m   \u001b[0mprogramA\u001b[0m\u001b[0;34m(\u001b[0m\u001b[0;34m*\u001b[0m\u001b[0margs\u001b[0m\u001b[0;34m,\u001b[0m \u001b[0;34m**\u001b[0m\u001b[0mkwargs\u001b[0m\u001b[0;34m)\u001b[0m\u001b[0;34m\u001b[0m\u001b[0m\n",
       "\u001b[0;31mType:\u001b[0m        Trivial\n",
       "\u001b[0;31mString form:\u001b[0m <__main__.Trivial object at 0x7f00cd1a3518>\n",
       "\u001b[0;31mDocstring:\u001b[0m   <no docstring>\n"
      ]
     },
     "metadata": {},
     "output_type": "display_data"
    }
   ],
   "source": [
    "programA??"
   ]
  },
  {
   "cell_type": "code",
   "execution_count": 14,
   "metadata": {},
   "outputs": [
    {
     "name": "stdout",
     "output_type": "stream",
     "text": [
      "True\n"
     ]
    }
   ],
   "source": [
    "def _do_block(bind, *stmts):\n",
    "    assert len(stmts) > 0\n",
    "    if len(stmts) == 1:\n",
    "        return lambda y: stmts[0](y)\n",
    "    else:\n",
    "        return lambda x: bind(stmts[0](x),\n",
    "                  _do_block(bind, *stmts[1:]))\n",
    "\n",
    "def trivial(*stmts): return _do_block(bind, *stmts)\n",
    "\n",
    "programB = trivial(\n",
    "    th,\n",
    "    tg,\n",
    "    tf)(x)\n",
    "\n",
    "print(programA() == programB())"
   ]
  },
  {
   "cell_type": "markdown",
   "metadata": {},
   "source": [
    "## A Variation of the Maybe Monad\n"
   ]
  },
  {
   "cell_type": "code",
   "execution_count": 16,
   "metadata": {},
   "outputs": [
    {
     "name": "stdout",
     "output_type": "stream",
     "text": [
      "Requirement already satisfied: singledispatch in /home/nbuser/anaconda3_501/lib/python3.6/site-packages (3.4.0.3)\n",
      "Requirement already satisfied: six in /home/nbuser/anaconda3_501/lib/python3.6/site-packages (from singledispatch) (1.11.0)\n",
      "\u001b[31mazure-datalake-store 0.0.19 has requirement msrest~=0.4.5, but you'll have msrest 0.5.0 which is incompatible.\u001b[0m\n"
     ]
    }
   ],
   "source": [
    "!pip install singledispatch"
   ]
  },
  {
   "cell_type": "code",
   "execution_count": 20,
   "metadata": {},
   "outputs": [],
   "source": [
    "from singledispatch import singledispatch"
   ]
  },
  {
   "cell_type": "code",
   "execution_count": null,
   "metadata": {},
   "outputs": [],
   "source": []
  },
  {
   "cell_type": "code",
   "execution_count": 21,
   "metadata": {},
   "outputs": [],
   "source": [
    "class Maybe(): pass\n",
    "\n",
    "class Just(Maybe):\n",
    "    def __init__(self, value):\n",
    "        self._value = value\n",
    "\n",
    "    def __call__(self, *args, **kwargs):\n",
    "        return self._value\n",
    "\n",
    "class Nothing(Maybe): pass\n",
    "\n",
    "@singledispatch\n",
    "def bind(what: Just, other: 'def f(a) -> Trivial: pass') -> Maybe:\n",
    "    return other(what())\n",
    "\n",
    "@bind.register(Nothing)\n",
    "def bind_nothing(what: Nothing, _) -> Nothing:\n",
    "    return what\n",
    "\n",
    "def maybe(*stmts): return _do_block(bind, *stmts)"
   ]
  },
  {
   "cell_type": "code",
   "execution_count": 22,
   "metadata": {},
   "outputs": [
    {
     "data": {
      "text/plain": [
       "<function __main__.bind>"
      ]
     },
     "execution_count": 22,
     "metadata": {},
     "output_type": "execute_result"
    }
   ],
   "source": [
    "bind"
   ]
  },
  {
   "cell_type": "code",
   "execution_count": 23,
   "metadata": {},
   "outputs": [
    {
     "name": "stdout",
     "output_type": "stream",
     "text": [
      "mfun1 12\n",
      "mfun2 12\n",
      "mfun3 12\n",
      "12\n",
      "mfun1 11\n",
      "as expected\n"
     ]
    }
   ],
   "source": [
    "def mfun1(x: int) -> Maybe:\n",
    "    print('mfun1', x)\n",
    "    return Just(x) if (x % 2) == 0 else Nothing()\n",
    "\n",
    "def mfun2(x: int) -> Maybe:\n",
    "    print('mfun2', x)\n",
    "    return Just(x) if (x % 3) == 0 else Nothing()\n",
    "\n",
    "def mfun3(x: int) -> Maybe:\n",
    "    print('mfun3', x)\n",
    "    return Just(x) if (x % 4) == 0 else Nothing()\n",
    "\n",
    "programC = maybe(\n",
    "    mfun1,\n",
    "    mfun2,\n",
    "    mfun3)\n",
    "print(programC(12)())\n",
    "try:\n",
    "    print(programC(11)())\n",
    "except:\n",
    "    print('as expected')\n"
   ]
  },
  {
   "cell_type": "code",
   "execution_count": null,
   "metadata": {},
   "outputs": [],
   "source": []
  }
 ],
 "metadata": {
  "kernelspec": {
   "display_name": "Python 3.6",
   "language": "python",
   "name": "python36"
  },
  "language_info": {
   "codemirror_mode": {
    "name": "ipython",
    "version": 3
   },
   "file_extension": ".py",
   "mimetype": "text/x-python",
   "name": "python",
   "nbconvert_exporter": "python",
   "pygments_lexer": "ipython3",
   "version": "3.6.3"
  }
 },
 "nbformat": 4,
 "nbformat_minor": 2
}
