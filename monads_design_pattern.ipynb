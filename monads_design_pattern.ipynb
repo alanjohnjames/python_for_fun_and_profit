{
 "cells": [
  {
   "cell_type": "markdown",
   "metadata": {},
   "source": [
    "# Monads, part 1: a design pattern\n",
    "\n",
    "https://www.stephanboyer.com/post/9/monads-part-1-a-design-pattern\n"
   ]
  },
  {
   "cell_type": "markdown",
   "metadata": {},
   "source": [
    "* Monad is a design pattern that allows us to redefine how function composition works.\n",
    "\n",
    "* Before I define what a monad is, let’s develop some intuition with motivational examples."
   ]
  },
  {
   "cell_type": "markdown",
   "metadata": {},
   "source": [
    "## Example 1: exception handling (a.k.a. “Maybe”)\n",
    "\n",
    "Let’s use Python to describe a function which computes the quotient of 100 and some divisor. \n",
    "\n",
    "In the special case where the divisor is zero, we’ll return None:"
   ]
  },
  {
   "cell_type": "code",
   "execution_count": 12,
   "metadata": {},
   "outputs": [],
   "source": [
    "def divide100(divisor):\n",
    "    if divisor == 0:\n",
    "        return None\n",
    "    else:\n",
    "        return 100 / divisor"
   ]
  },
  {
   "cell_type": "markdown",
   "metadata": {},
   "source": [
    "Let’s also write a function to compute the square root of a number.\n",
    "\n",
    "If the input is negative, we’ll return `None`:"
   ]
  },
  {
   "cell_type": "code",
   "execution_count": 13,
   "metadata": {},
   "outputs": [],
   "source": [
    "def sqrt(x):\n",
    "    if x < 0:\n",
    "        return None\n",
    "    else:\n",
    "        return x ** 0.5"
   ]
  },
  {
   "cell_type": "markdown",
   "metadata": {},
   "source": [
    "Can we compose these functions?\n",
    "\n",
    "What if we wanted to compute something like `sqrt(divide100(sqrt(x)))`? \n",
    "That would work as long as `x` is positive.\n",
    "\n",
    "If we explicitly handle the case when any of those functions returns `None`, the code becomes much longer:"
   ]
  },
  {
   "cell_type": "code",
   "execution_count": 14,
   "metadata": {},
   "outputs": [
    {
     "data": {
      "text/plain": [
       "10.0"
      ]
     },
     "execution_count": 14,
     "metadata": {},
     "output_type": "execute_result"
    }
   ],
   "source": [
    "x = 1.0\n",
    "a = sqrt(x)\n",
    "if a is not None:\n",
    "    b = divide100(a)\n",
    "    if b is not None:\n",
    "        c = sqrt(b)\n",
    "c"
   ]
  },
  {
   "cell_type": "markdown",
   "metadata": {},
   "source": [
    "You can imagine how tedious it would be if we had to do manual error checking like this for all of our function calls. \n",
    "\n",
    "Perhaps a better solution is to rewrite `divide100` and sqrt such that they each do the error handling themselves. \n",
    "\n",
    "For example, we might modify them as follows:"
   ]
  },
  {
   "cell_type": "code",
   "execution_count": 15,
   "metadata": {},
   "outputs": [],
   "source": [
    "def composable_divide100(divisor):\n",
    "    if divisor is None or divisor == 0:\n",
    "        return None\n",
    "    else:\n",
    "        return 100 / divisor\n",
    "\n",
    "def composable_sqrt(x):\n",
    "    if x is None or x < 0:\n",
    "        return None\n",
    "    else:\n",
    "        return x**0.5\n"
   ]
  },
  {
   "cell_type": "markdown",
   "metadata": {},
   "source": [
    "Now we can evaluate expressions like `composable_sqrt(composable_divide100(composable_sqrt(x)))`.\n",
    "\n",
    "When `x <= 0`, the entire expression evaluates to None just as we would expect.\n",
    "\n",
    "Rather than modifying all of our functions to check for `None`, let’s write a wrapper function (let’s call it `bind`) to do the error handling for us. \n",
    "\n",
    "It takes a value (either a number or `None`) and a function (such as `divide100` or `sqrt`) and applies the function to that value. \n",
    "\n",
    "If the input is None, we skip the function application and just return `None`:"
   ]
  },
  {
   "cell_type": "code",
   "execution_count": 16,
   "metadata": {},
   "outputs": [],
   "source": [
    "def bind(x, f):\n",
    "    if x is None:\n",
    "        return None\n",
    "    else:\n",
    "        return f(x)"
   ]
  },
  {
   "cell_type": "markdown",
   "metadata": {},
   "source": [
    "Now we can compose these functions like: `bind(bind(bind(x, sqrt), divide100), sqrt)`. Sweet! \n",
    "\n",
    "We have a way to compose numerical functions that might fail.\n",
    "\n",
    "You’ve essentially just implemented Haskell’s `Maybe` monad, which is a simple form of exception handling.\n",
    "\n",
    "Let’s try some more complex examples."
   ]
  },
  {
   "cell_type": "markdown",
   "metadata": {},
   "source": [
    "## Example 2: vector operations (a.k.a. “List”)\n",
    "\n",
    "We know that, mathematically, positive numbers have two square roots.\n",
    "Let’s modify sqrt to return a list of values:"
   ]
  },
  {
   "cell_type": "code",
   "execution_count": 17,
   "metadata": {},
   "outputs": [],
   "source": [
    "def sqrt(x):\n",
    "    if x < 0:\n",
    "        return []\n",
    "    elif x == 0:\n",
    "        return [0]\n",
    "    else:\n",
    "        return [x**0.5, -x**0.5]"
   ]
  },
  {
   "cell_type": "markdown",
   "metadata": {},
   "source": [
    "So there are three cases we have to consider.\n",
    "\n",
    "If `x` is positive, we return its two square roots.\n",
    "If `x` is `0`, we return `[0]`.\n",
    "If `x` is negative, we return the empty list.\n",
    "Great!\n",
    "\n",
    "Our sqrt function now makes more mathematical sense, at least for real numbers.\n",
    "\n",
    "But we have the same problem as in Example 1—it is no longer composable with itself.\n",
    "\n",
    "We can’t just compute `sqrt(sqrt(x))`, because the inner call to `sqrt` returns a `list`, and the outer call expects a number.\n",
    "\n",
    "As before, we need to define a bind function to help us with composition:"
   ]
  },
  {
   "cell_type": "code",
   "execution_count": 18,
   "metadata": {},
   "outputs": [],
   "source": [
    "def bind(x, f): \n",
    "    return [j for i in x for j in f(i)]"
   ]
  },
  {
   "cell_type": "markdown",
   "metadata": {},
   "source": [
    "Here, bind takes a list of numbers x and a function f. \n",
    "\n",
    "The doubly-iterated list comprehension might look cryptic—you can think of it like this: We apply f to each value in x, which gives us a list of lists. \n",
    "\n",
    "Then we flatten the result into one list and return it. \n",
    "\n",
    "Now we can compute the square roots of a list of numbers, and then compute all the square roots of the results:"
   ]
  },
  {
   "cell_type": "code",
   "execution_count": 19,
   "metadata": {},
   "outputs": [
    {
     "data": {
      "text/plain": [
       "[1.4953487812212205,\n",
       " -1.4953487812212205,\n",
       " 0,\n",
       " 1.3160740129524924,\n",
       " -1.3160740129524924]"
      ]
     },
     "execution_count": 19,
     "metadata": {},
     "output_type": "execute_result"
    }
   ],
   "source": [
    "bind(bind([5, 0, 3], sqrt), sqrt) \n",
    "\n",
    "# [1.4953487812212205, -1.4953487812212205, 0, 1.3160740129524924, -1.3160740129524924]"
   ]
  },
  {
   "cell_type": "markdown",
   "metadata": {},
   "source": [
    "It works!\n",
    "\n",
    "But our original goal was to find the square roots of one number.\n",
    "\n",
    "We could always write bind([x], sqrt) where x is a number, maybe it would be better to use a function to abstract the representation of our input.\n",
    "\n",
    "Let’s call this function unit:"
   ]
  },
  {
   "cell_type": "code",
   "execution_count": 20,
   "metadata": {},
   "outputs": [],
   "source": [
    "def unit(x):\n",
    "    return [x]"
   ]
  },
  {
   "cell_type": "markdown",
   "metadata": {},
   "source": [
    "Yep, it just puts a value into a list. \n",
    "\n",
    "It may seem unmotivated now, but we’ll write a more helpful unit function in the next example. \n",
    "\n",
    "Now we don’t have to put our input into a list—instead, we run it through unit, which puts it in the necessary representation:"
   ]
  },
  {
   "cell_type": "code",
   "execution_count": 21,
   "metadata": {},
   "outputs": [
    {
     "data": {
      "text/plain": [
       "[1.4142135623730951, -1.4142135623730951]"
      ]
     },
     "execution_count": 21,
     "metadata": {},
     "output_type": "execute_result"
    }
   ],
   "source": [
    "bind(bind(unit(4), sqrt), sqrt) \n",
    "\n",
    "# [1.4142135623730951, -1.4142135623730951]"
   ]
  },
  {
   "cell_type": "markdown",
   "metadata": {},
   "source": [
    "Cool, we can now intelligently compose functions that might return several values! \n",
    "\n",
    "That’s basically Haskell’s List monad."
   ]
  },
  {
   "cell_type": "markdown",
   "metadata": {},
   "source": [
    "## Example 3: debug output (a.k.a. “Writer”)"
   ]
  },
  {
   "cell_type": "code",
   "execution_count": null,
   "metadata": {},
   "outputs": [],
   "source": []
  }
 ],
 "metadata": {
  "kernelspec": {
   "display_name": "Python 2",
   "language": "python",
   "name": "python2"
  },
  "language_info": {
   "codemirror_mode": {
    "name": "ipython",
    "version": 2
   },
   "file_extension": ".py",
   "mimetype": "text/x-python",
   "name": "python",
   "nbconvert_exporter": "python",
   "pygments_lexer": "ipython2",
   "version": "2.7.14"
  }
 },
 "nbformat": 4,
 "nbformat_minor": 2
}
