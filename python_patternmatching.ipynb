{
 "cells": [
  {
   "cell_type": "markdown",
   "metadata": {
    "collapsed": true
   },
   "source": [
    "# chadselph / patternmatching.py\n",
    "\n",
    "https://gist.github.com/chadselph/1320421\n",
    "\n"
   ]
  },
  {
   "cell_type": "code",
   "execution_count": 1,
   "metadata": {},
   "outputs": [],
   "source": [
    "from collections import defaultdict\n",
    "\n",
    "class BadMatch(NameError):\n",
    "    \"\"\"Exception when your args don't match a pattern\"\"\"\n",
    "    pass\n",
    "\n",
    "class Any(object):\n",
    "    \"\"\"\n",
    "    >>> 'wutup' == Any()\n",
    "    True\n",
    "    \"\"\"\n",
    "    def __eq__(mcs, _other):\n",
    "        return True\n",
    "Any = Any()\n",
    "\n",
    "class OfType:\n",
    "    \"\"\"\n",
    "    >>> 3 == OfType(int, str, bool)\n",
    "    True\n",
    "    >>> 'ok' == OfType(int)\n",
    "    False\n",
    "    \"\"\"\n",
    "    def __init__(self, *types):\n",
    "        self.type = types\n",
    "    def __eq__(self, other):\n",
    "        return isinstance(other, self.type)\n",
    "\n",
    "class Where:\n",
    "    \"\"\"\n",
    "    >>> 'ok' == Where(str.isupper)\n",
    "    False\n",
    "    >>> [] == Where(len)\n",
    "    False\n",
    "    \"\"\"\n",
    "    def __init__(self, predicate):\n",
    "        self.predicate = predicate\n",
    "\n",
    "    def __eq__(self, other):\n",
    "        try:\n",
    "            return bool(self.predicate(other))\n",
    "        except:\n",
    "            return False\n",
    "\n",
    "class WhereNot(Where):\n",
    "    def __eq__(self, other):\n",
    "        return not Where.__eq__(self, other)\n",
    "\n",
    "class PatternMatcher(object):\n",
    "    \"\"\"\n",
    "    Keeps a dict of lists where key is the function name\n",
    "    and val is a list of functions with that name.\n",
    "    Whenever it decorates a function, it adds that function\n",
    "    to its dict of lists, then replace it with a new function\n",
    "    that calls the right function in the list based on passed\n",
    "    arguments.\n",
    "    \"\"\"\n",
    "\n",
    "    def __init__(self):\n",
    "        self.funcs = defaultdict(list)\n",
    "\n",
    "    def find_match(self, name):\n",
    "        \"\"\"Return a function that knows how to call the right\n",
    "        function based on the args passed in.\n",
    "        \"\"\"\n",
    "        my_funcs = self.funcs[name]\n",
    "        def wrapper(*args):\n",
    "            # TODO: can we handle **kwargs??\n",
    "            for function in my_funcs:\n",
    "                if len(args) == len(function.__defaults__):\n",
    "                    if all(passed == spec for (passed, spec) in zip(args, function.__defaults__)):\n",
    "                        return function(*args)\n",
    "            else:\n",
    "                raise BadMatch(\"function `{0}` has no match for args ({1})\".format(name, args))\n",
    "        return wrapper\n",
    "\n",
    "    def __call__(self, func):\n",
    "        \"\"\"Decorator: add to func to self.funcs\"\"\"\n",
    "        keyword_args = func.__defaults__ or 0\n",
    "        if func.__code__.co_argcount != len(keyword_args):\n",
    "            raise SyntaxError(\"Every argument must have default parameter for pattern matching\")\n",
    "        self.funcs[func.__code__.co_name].append(func)\n",
    "        return self.find_match(func.__code__.co_name)\n",
    "\n",
    "ifmatches = PatternMatcher()\n",
    "\n",
    "if __name__ == \"__main__\":\n",
    "    # pylint has NO IDEA what I'm doing here\n",
    "    # it's all like 'OMGWTF?!'\n",
    "\n",
    "    @ifmatches\n",
    "    def my_func(test=\"hey\"):\n",
    "        print(\"this is my_func with test=hey\")\n",
    "\n",
    "    @ifmatches\n",
    "    def my_func(test=2):\n",
    "        print(\"this is my_func with test=2\")\n",
    "\n",
    "    @ifmatches\n",
    "    def my_func(test=OfType(int)):\n",
    "        print(\"this is my_func with int test!=2\")\n",
    "\n",
    "    @ifmatches\n",
    "    def my_func(test=Any):\n",
    "        print(\"this is my_func with a non-int\")\n",
    "\n",
    "    @ifmatches\n",
    "    def psum(l=[]):\n",
    "        return 0\n",
    "\n",
    "    @ifmatches\n",
    "    def psum(l=[Any]):\n",
    "        return l[0]\n",
    "\n",
    "    @ifmatches\n",
    "    def psum(l=Where(lambda x: len(x) > 1)):\n",
    "        head, tail = l[0], l[1:]\n",
    "        return head + psum(tail)\n",
    "\n",
    "    @ifmatches\n",
    "    def count_letters(string=\"\"):\n",
    "        return 0\n",
    "    @ifmatches\n",
    "    def count_letters(string=OfType(str)):\n",
    "        return count_letters(string[0], string[1:])\n",
    "    @ifmatches\n",
    "    def count_letters(x=Where(str.isalpha), xs=OfType(str)):\n",
    "        return 1 + count_letters(xs)\n",
    "    @ifmatches\n",
    "    def count_letters(x=WhereNot(str.isalpha), xs=OfType(str)):\n",
    "        return count_letters(xs)\n",
    "\n",
    "    assert count_letters(\"ACD123\") == 3\n",
    "    assert count_letters(\"\") == 0\n",
    "    assert count_letters(\"123424\") == 0\n",
    "    try:\n",
    "        count_letters(1)\n",
    "        assert False\n",
    "    except BadMatch:\n",
    "        assert True\n",
    "\n",
    "    import doctest\n",
    "    doctest.testmod()\n"
   ]
  },
  {
   "cell_type": "code",
   "execution_count": 2,
   "metadata": {},
   "outputs": [
    {
     "data": {
      "text/plain": [
       "<function __main__.wrapper>"
      ]
     },
     "execution_count": 2,
     "metadata": {},
     "output_type": "execute_result"
    }
   ],
   "source": [
    "count_letters"
   ]
  },
  {
   "cell_type": "code",
   "execution_count": 3,
   "metadata": {},
   "outputs": [
    {
     "data": {
      "text/plain": [
       "<class __main__.OfType at 0x7eff204f1b48>"
      ]
     },
     "execution_count": 3,
     "metadata": {},
     "output_type": "execute_result"
    }
   ],
   "source": [
    "OfType"
   ]
  },
  {
   "cell_type": "code",
   "execution_count": 4,
   "metadata": {},
   "outputs": [],
   "source": [
    "@ifmatches\n",
    "def int_or_str(i_or_s=OfType(int, str)):\n",
    "    print(\"i_or_s = {}\".format(i_or_s))"
   ]
  },
  {
   "cell_type": "code",
   "execution_count": 5,
   "metadata": {},
   "outputs": [
    {
     "name": "stdout",
     "output_type": "stream",
     "text": [
      "i_or_s = s\n"
     ]
    }
   ],
   "source": [
    "int_or_str('s')"
   ]
  },
  {
   "cell_type": "code",
   "execution_count": 6,
   "metadata": {},
   "outputs": [
    {
     "name": "stdout",
     "output_type": "stream",
     "text": [
      "i_or_s = 123\n"
     ]
    }
   ],
   "source": [
    "int_or_str(123)"
   ]
  },
  {
   "cell_type": "code",
   "execution_count": 11,
   "metadata": {},
   "outputs": [
    {
     "ename": "BadMatch",
     "evalue": "function `int_or_str` has no match for args ((1.2,))",
     "output_type": "error",
     "traceback": [
      "\u001b[0;31m\u001b[0m",
      "\u001b[0;31mBadMatch\u001b[0mTraceback (most recent call last)",
      "\u001b[0;32m<ipython-input-11-a69abcad7ac8>\u001b[0m in \u001b[0;36m<module>\u001b[0;34m()\u001b[0m\n\u001b[1;32m      1\u001b[0m \u001b[0;32mfrom\u001b[0m \u001b[0mnose\u001b[0m\u001b[0;34m.\u001b[0m\u001b[0mtools\u001b[0m \u001b[0;32mimport\u001b[0m \u001b[0massert_raises\u001b[0m\u001b[0;34m\u001b[0m\u001b[0m\n\u001b[1;32m      2\u001b[0m \u001b[0;34m\u001b[0m\u001b[0m\n\u001b[0;32m----> 3\u001b[0;31m \u001b[0massert_raises\u001b[0m\u001b[0;34m(\u001b[0m\u001b[0mBadMatch\u001b[0m\u001b[0;34m,\u001b[0m \u001b[0mint_or_str\u001b[0m\u001b[0;34m(\u001b[0m\u001b[0;36m1.2\u001b[0m\u001b[0;34m)\u001b[0m\u001b[0;34m)\u001b[0m\u001b[0;34m\u001b[0m\u001b[0m\n\u001b[0m",
      "\u001b[0;32m<ipython-input-1-d4563cb3dda3>\u001b[0m in \u001b[0;36mwrapper\u001b[0;34m(*args)\u001b[0m\n\u001b[1;32m     71\u001b[0m                         \u001b[0;32mreturn\u001b[0m \u001b[0mfunction\u001b[0m\u001b[0;34m(\u001b[0m\u001b[0;34m*\u001b[0m\u001b[0margs\u001b[0m\u001b[0;34m)\u001b[0m\u001b[0;34m\u001b[0m\u001b[0m\n\u001b[1;32m     72\u001b[0m             \u001b[0;32melse\u001b[0m\u001b[0;34m:\u001b[0m\u001b[0;34m\u001b[0m\u001b[0m\n\u001b[0;32m---> 73\u001b[0;31m                 \u001b[0;32mraise\u001b[0m \u001b[0mBadMatch\u001b[0m\u001b[0;34m(\u001b[0m\u001b[0;34m\"function `{0}` has no match for args ({1})\"\u001b[0m\u001b[0;34m.\u001b[0m\u001b[0mformat\u001b[0m\u001b[0;34m(\u001b[0m\u001b[0mname\u001b[0m\u001b[0;34m,\u001b[0m \u001b[0margs\u001b[0m\u001b[0;34m)\u001b[0m\u001b[0;34m)\u001b[0m\u001b[0;34m\u001b[0m\u001b[0m\n\u001b[0m\u001b[1;32m     74\u001b[0m         \u001b[0;32mreturn\u001b[0m \u001b[0mwrapper\u001b[0m\u001b[0;34m\u001b[0m\u001b[0m\n\u001b[1;32m     75\u001b[0m \u001b[0;34m\u001b[0m\u001b[0m\n",
      "\u001b[0;31mBadMatch\u001b[0m: function `int_or_str` has no match for args ((1.2,))"
     ]
    }
   ],
   "source": [
    "from nose.tools import assert_raises\n",
    "\n",
    "assert_raises(BadMatch, int_or_str(1.2))"
   ]
  },
  {
   "cell_type": "code",
   "execution_count": 8,
   "metadata": {},
   "outputs": [
    {
     "data": {
      "text/plain": [
       "True"
      ]
     },
     "execution_count": 8,
     "metadata": {},
     "output_type": "execute_result"
    }
   ],
   "source": [
    "'1.2' == OfType(int, str)"
   ]
  },
  {
   "cell_type": "code",
   "execution_count": 9,
   "metadata": {},
   "outputs": [],
   "source": [
    "def match(vars, vars_to_funcs):\n",
    "    \"\"\" Match variables that satisfy key conditions to functions \n",
    "    \n",
    "        Args:\n",
    "            var_tuple: tuple of variables to `match`\n",
    "            func_dict: dict mapping tuple of test conditions to functions to call\n",
    "\n",
    "        See: \n",
    "            http://hackflow.com/blog/2015/03/29/metaprogramming-beyond-decency/\n",
    "            \n",
    "            # Use simple pattern matching to construct form field widget\n",
    "\n",
    "            VARS_TO_FUNCS = (\n",
    "                [lambda f: f.choices,           lambda f: Select(choices=f.choices)],\n",
    "                [lambda f: f.type == 'int',     lambda f: TextInput(coerce=int)],\n",
    "                [lambda f: f.type == 'string',  lambda f: TextInput()],\n",
    "                [lambda f: f.type == 'text',    lambda f: Textarea()],\n",
    "                [lambda f: f.type == 'boolean', lambda f: Checkbox(f.label)],\n",
    "            )\n",
    "            \n",
    "            return first(do(field) for cond, do in TYPE_TO_WIDGET if cond(field))\n",
    "    \"\"\"\n",
    "    pass\n"
   ]
  },
  {
   "cell_type": "code",
   "execution_count": null,
   "metadata": {},
   "outputs": [],
   "source": []
  }
 ],
 "metadata": {
  "kernelspec": {
   "display_name": "Python 2",
   "language": "python",
   "name": "python2"
  },
  "language_info": {
   "codemirror_mode": {
    "name": "ipython",
    "version": 2
   },
   "file_extension": ".py",
   "mimetype": "text/x-python",
   "name": "python",
   "nbconvert_exporter": "python",
   "pygments_lexer": "ipython2",
   "version": "2.7.14"
  }
 },
 "nbformat": 4,
 "nbformat_minor": 2
}
