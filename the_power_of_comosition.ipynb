{
 "cells": [
  {
   "cell_type": "markdown",
   "metadata": {
    "collapsed": true
   },
   "source": [
    "# The Power of Compositon\n",
    "\n",
    "Composition Principles \n",
    "\n",
    "* Combine Types\n",
    "* Combine Functions\n"
   ]
  },
  {
   "cell_type": "markdown",
   "metadata": {},
   "source": [
    "* No Loops\n",
    "* No Variables\n",
    "* No Objects\n",
    "* No Methods\n",
    "* No Inheritance"
   ]
  },
  {
   "cell_type": "markdown",
   "metadata": {},
   "source": [
    "# Lego Compositon "
   ]
  },
  {
   "cell_type": "markdown",
   "metadata": {},
   "source": [
    "<img src=\"https://metrouk2.files.wordpress.com/2014/02/10667_front_11.jpg\">"
   ]
  },
  {
   "cell_type": "markdown",
   "metadata": {},
   "source": [
    "<img src=\"https://i.pinimg.com/736x/c8/65/88/c865885ab8d04bfb7ec1bba9e6034d39--lego-duplo-lego-car.jpg\">"
   ]
  },
  {
   "cell_type": "markdown",
   "metadata": {},
   "source": [
    "# Railway Track Composition\n",
    "\n",
    "<img src=\"https://sites.create-cdn.net/siteimages/29/7/2/297215/5690308.jpg\">"
   ]
  },
  {
   "cell_type": "markdown",
   "metadata": {},
   "source": []
  },
  {
   "cell_type": "markdown",
   "metadata": {},
   "source": []
  },
  {
   "cell_type": "code",
   "execution_count": 3,
   "metadata": {},
   "outputs": [
    {
     "name": "stdout",
     "output_type": "stream",
     "text": [
      "Writing new_file.py\n"
     ]
    }
   ],
   "source": [
    "%%file new_file.py \n",
    "\"\"\" New file \"\"\"\n",
    "\n",
    "import sys\n",
    "\n",
    "print(sys.executable)\n"
   ]
  },
  {
   "cell_type": "code",
   "execution_count": 6,
   "metadata": {},
   "outputs": [
    {
     "name": "stdout",
     "output_type": "stream",
     "text": [
      "total 8\r\n",
      "drwxr-xr-x 2 nbuser nbuser    0 Jan  1  1970 \u001b[0m\u001b[01;34m.\u001b[0m/\r\n",
      "drwxr-xr-x 1 nbuser nbuser 4096 Feb 15 07:02 \u001b[01;34m..\u001b[0m/\r\n",
      "drwxr-xr-x 2 nbuser nbuser    0 Feb 14 19:37 \u001b[01;34m.git\u001b[0m/\r\n",
      "drwxr-xr-x 2 nbuser nbuser    0 Feb 14 19:40 \u001b[01;34m.ipynb_checkpoints\u001b[0m/\r\n",
      "-rw-r--r-- 1 nbuser nbuser   51 Feb 15 07:05 new_file.py\r\n",
      "-rw-r--r-- 1 nbuser nbuser  134 Feb 14 19:38 README.md\r\n",
      "-rw-r--r-- 1 nbuser nbuser 1679 Feb 15 07:05 the_power_of_comosition.ipynb\r\n"
     ]
    }
   ],
   "source": [
    "ls -alF"
   ]
  },
  {
   "cell_type": "code",
   "execution_count": null,
   "metadata": {},
   "outputs": [],
   "source": []
  }
 ],
 "metadata": {
  "kernelspec": {
   "display_name": "Python 3.6",
   "language": "python",
   "name": "python36"
  },
  "language_info": {
   "codemirror_mode": {
    "name": "ipython",
    "version": 3
   },
   "file_extension": ".py",
   "mimetype": "text/x-python",
   "name": "python",
   "nbconvert_exporter": "python",
   "pygments_lexer": "ipython3",
   "version": "3.6.3"
  }
 },
 "nbformat": 4,
 "nbformat_minor": 2
}
