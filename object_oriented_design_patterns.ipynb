{
 "cells": [
  {
   "cell_type": "markdown",
   "metadata": {},
   "source": [
    "# Design Patterns in Python\n",
    "\n",
    "References and Web Links on Design Patterns\n"
   ]
  },
  {
   "cell_type": "markdown",
   "metadata": {},
   "source": [
    "---\n",
    "## Practical example of Polymorphism\n",
    "\n",
    "https://stackoverflow.com/questions/3724110/practical-example-of-polymorphism\n",
    "\n",
    "\n",
    "---\n",
    "## Design pattern in python: Template method\n",
    "\n",
    "http://jpython.blogspot.com/2012/11/design-pattern-in-python-template-method.html\n",
    "\n",
    "\n",
    "---\n",
    "## Creational Design Patterns in Python\n",
    "\n",
    "### Builder Pattern\n",
    "\n",
    "Chapter from *Python in Practice: Create Better Programs Using Concurrency, Libraries, and Patterns*\n",
    "\n",
    "http://www.informit.com/articles/article.aspx?p=2131418&seqNum=2\n",
    "\n",
    "\n",
    "---\n"
   ]
  },
  {
   "cell_type": "code",
   "execution_count": null,
   "metadata": {},
   "outputs": [],
   "source": []
  }
 ],
 "metadata": {
  "kernelspec": {
   "display_name": "Python 3.6",
   "language": "python",
   "name": "python36"
  },
  "language_info": {
   "codemirror_mode": {
    "name": "ipython",
    "version": 3
   },
   "file_extension": ".py",
   "mimetype": "text/x-python",
   "name": "python",
   "nbconvert_exporter": "python",
   "pygments_lexer": "ipython3",
   "version": "3.6.3"
  }
 },
 "nbformat": 4,
 "nbformat_minor": 2
}
