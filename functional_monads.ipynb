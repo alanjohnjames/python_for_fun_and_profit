{
 "cells": [
  {
   "cell_type": "markdown",
   "metadata": {},
   "source": [
    "# Monads in Python\n",
    "\n",
    "References and Web Links on Monads\n"
   ]
  },
  {
   "cell_type": "markdown",
   "metadata": {},
   "source": [
    "---\n",
    "## Jorgen’s Weblog\n",
    "### Monads for Normal Programmers\n",
    "\n",
    "**Part 1** http://blog.jorgenschaefer.de/2013/01/monads-for-normal-programmers.html\n",
    "\n",
    "**Part 2** http://blog.jorgenschaefer.de/2013/02/monads-for-normal-programmers-part-2.html\n",
    "\n",
    "\n",
    "---\n",
    "## Stephan Boyer\n",
    "### Monads, part 1: a design pattern\n",
    "\n",
    "https://www.stephanboyer.com/post/9/monads-part-1-a-design-pattern\n",
    "\n",
    "\n",
    "### Monads, part 2: impure computations\n",
    "\n",
    "https://www.stephanboyer.com/post/10/monads-part-2-impure-computations\n",
    "\n",
    "\n",
    "---\n",
    "## Things on a Heap \n",
    "A Collection of Programming Ramblings by **chjdev**\n",
    "\n",
    "### From Monoids to Monads in Python\n",
    "\n",
    "https://chjdev.com/2014/12/09/monoids-monads-python/\n",
    "\n",
    "\n",
    "---\n",
    "## Unpythonic\n",
    "### Right in the Monads\n",
    "\n",
    "https://unpythonic.com/01_06_monads/\n",
    "\n",
    "\n",
    "---\n",
    "## Monads in 15 minutes\n",
    "\n",
    "http://nikgrozev.com/2013/12/10/monads-in-15-minutes/\n",
    "\n",
    "\n",
    "---\n",
    "## The State Monad in Python terms\n",
    "\n",
    "https://gaiustech.wordpress.com/2010/09/06/on-monads/\n",
    "\n",
    "\n",
    "---\n",
    "### Valued Lessons\n",
    "\n",
    "http://www.valuedlessons.com/2008/01/monads-in-python-with-nice-syntax.html\n",
    "\n",
    "\n",
    "---\n",
    "## Three Useful Monads\n",
    "\n",
    "https://github.com/dbrattli/OSlash/wiki/Three-Useful-Monads\n",
    "\n",
    "\n",
    "---\n",
    "## Monads for Normal People\n",
    "Dustin Getz\n",
    "\n",
    "https://www.slideshare.net/eldariof/monads-in-python\n",
    "\n",
    "---\n",
    "## Functional Programming Concepts\n",
    "Contains some examples in Python\n",
    "\n",
    "https://caiorss.github.io/Functional-Programming/haskell/Functional_Programming_Concepts.html\n",
    "\n",
    "### Function Composition\n",
    "https://caiorss.github.io/Functional-Programming/haskell/Functional_Programming_Concepts.html#sec-1-12-3\n",
    "\n",
    "---\n"
   ]
  },
  {
   "cell_type": "code",
   "execution_count": null,
   "metadata": {},
   "outputs": [],
   "source": []
  },
  {
   "cell_type": "code",
   "execution_count": null,
   "metadata": {},
   "outputs": [],
   "source": []
  },
  {
   "cell_type": "code",
   "execution_count": null,
   "metadata": {},
   "outputs": [],
   "source": []
  },
  {
   "cell_type": "markdown",
   "metadata": {},
   "source": [
    "# Monads in JavaScript\n",
    "\n",
    "References and Web Links on Monads"
   ]
  },
  {
   "cell_type": "markdown",
   "metadata": {},
   "source": [
    "---\n",
    "## Monads and Gonads\n",
    "\n",
    "Google Tech Talk by Douglas Crockford\n",
    "\n",
    "Video: https://www.youtube.com/watch?v=b0EF0VTs9Dc\n",
    "\n",
    "Lecture Notes: https://gist.github.com/newswim/4668aef8a1f1bc0dabe8\n",
    "\n",
    "---\n",
    "## borota/monad-js\n",
    "\n",
    "### Douglas Crockford's monad library as UMD/ES6 module\n",
    "\n",
    "https://github.com/borota/monad-js\n",
    "\n",
    "---\n",
    "## JackNova/JavascriptMonads.js\n",
    "\n",
    "### Monads Implementation in javascript, as seen in crockford presentation at yui conf 2012\n",
    "\n",
    "https://gist.github.com/JackNova/4339141\n",
    "\n",
    "\n",
    "\n",
    "---\n",
    "## Beyond “Monads and Gonads”\n",
    "\n",
    "### The code from \"Monads & Gonads\", adding lots of examples + State and Writer monads\n",
    "\n",
    "https://faustinelli.wordpress.com/2014/10/29/beyond-monads-and-gonads/\n",
    "\n",
    "This led me to fork the original Crockford’s code and produce further applications of the monads presented inside it as well as of new types\n",
    "\n",
    "https://github.com/Muzietto/monad\n",
    "\n"
   ]
  },
  {
   "cell_type": "code",
   "execution_count": null,
   "metadata": {},
   "outputs": [],
   "source": []
  },
  {
   "cell_type": "code",
   "execution_count": null,
   "metadata": {},
   "outputs": [],
   "source": []
  },
  {
   "cell_type": "markdown",
   "metadata": {},
   "source": [
    "# Monads in TypeScript\n",
    "\n",
    "References and Web Links on Monads\n"
   ]
  },
  {
   "cell_type": "markdown",
   "metadata": {},
   "source": [
    "---\n",
    "## cbowdon/TsMonad\n",
    "Little monad library designed for TypeScript\n",
    "\n",
    "https://github.com/cbowdon/TsMonad\n",
    "\n",
    "\n",
    "---\n"
   ]
  },
  {
   "cell_type": "code",
   "execution_count": null,
   "metadata": {},
   "outputs": [],
   "source": []
  }
 ],
 "metadata": {
  "kernelspec": {
   "display_name": "Python 3.6",
   "language": "python",
   "name": "python36"
  },
  "language_info": {
   "codemirror_mode": {
    "name": "ipython",
    "version": 3
   },
   "file_extension": ".py",
   "mimetype": "text/x-python",
   "name": "python",
   "nbconvert_exporter": "python",
   "pygments_lexer": "ipython3",
   "version": "3.6.3"
  }
 },
 "nbformat": 4,
 "nbformat_minor": 2
}
