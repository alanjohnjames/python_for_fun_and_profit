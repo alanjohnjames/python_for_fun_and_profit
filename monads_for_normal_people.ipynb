{
 "cells": [
  {
   "cell_type": "markdown",
   "metadata": {},
   "source": [
    "# Monads for normal people!\n",
    "\n",
    "This Jupyter notebook implements the code in the talk by Dustin Getz\n",
    "\n",
    "> Video https://www.infoq.com/presentations/Monads-Code#\n",
    "\n",
    "> Slides https://www.slideshare.net/eldariof/monads-in-python\n",
    "\n",
    "References\n",
    "\n",
    "> pymonad https://github.com/dustingetz/pymonads\n",
    "\n",
    "> monadic-interpreter https://github.com/dustingetz/monadic-interpreter\n"
   ]
  },
  {
   "cell_type": "markdown",
   "metadata": {},
   "source": [
    "# intended audience\n",
    "\n",
    "* coders\n",
    "\n",
    "* who are comfortable with lambdas\n",
    "\n",
    "* who learn by example"
   ]
  },
  {
   "cell_type": "markdown",
   "metadata": {},
   "source": [
    "# goals\n",
    "\n",
    "* how monads work?\n",
    "* how do monads help?\n",
    "* are monads useful IRL?\n",
    "* especially in enterprise?\n",
    "* where do they fall short and what's next?"
   ]
  },
  {
   "cell_type": "markdown",
   "metadata": {},
   "source": [
    "# large codebases are complex\n",
    "\n",
    "* Spring, EJB, AspectJ, DI, AOP\n",
    "* Common goal: make code look like business logic\n",
    "* (to varying degrees of success)"
   ]
  },
  {
   "cell_type": "markdown",
   "metadata": {},
   "source": [
    "# Aspect Oriented Programming\n",
    "\n",
    "*From Wikipedia...*\n",
    "\n",
    "# Lots of code to follow\n",
    "\n",
    "* Pay attention to how functions compose"
   ]
  },
  {
   "cell_type": "markdown",
   "metadata": {},
   "source": [
    "# a bank API"
   ]
  },
  {
   "cell_type": "code",
   "execution_count": 1,
   "metadata": {},
   "outputs": [],
   "source": [
    "from collections import namedtuple\n",
    "\n",
    "Person = namedtuple('Person', 'name')\n",
    "Account = namedtuple('Account', 'id')\n",
    "Balance = namedtuple('Balance', ['cash', 'ccy'])\n",
    "\n",
    "alice = Person('Alice')\n",
    "bob = Person('Bob')\n",
    "\n",
    "\n",
    "def get_account(person):\n",
    "    if person.name == 'Alice': return Account(1)\n",
    "    elif person.name == 'Bob': return Account(2)\n",
    "    else: return None\n",
    "\n",
    "def get_balance(account):\n",
    "    if account.id == 1: return Balance(1000000, 'usd')\n",
    "    elif account.id == 2: return Balance(75000, 'usd')\n",
    "    else: return None\n",
    "\n",
    "def get_qualified_amount(balance):\n",
    "    if balance.cash > 200000: return balance.cash\n",
    "    else: return None\n"
   ]
  },
  {
   "cell_type": "markdown",
   "metadata": {},
   "source": [
    "# what we want to write"
   ]
  },
  {
   "cell_type": "code",
   "execution_count": 2,
   "metadata": {},
   "outputs": [],
   "source": [
    "def get_loan(name):\n",
    "    account = get_account(name)\n",
    "    balance = get_balance(account)\n",
    "    loan = get_qualified_amount(balance)\n",
    "    return loan"
   ]
  },
  {
   "cell_type": "markdown",
   "metadata": {},
   "source": [
    "# business analyst would write this code"
   ]
  },
  {
   "cell_type": "markdown",
   "metadata": {},
   "source": [
    "```python\n",
    "# POSIX\n",
    "\n",
    "alice | get_account | get_balance | get_qualified_amount\n",
    "```"
   ]
  },
  {
   "cell_type": "markdown",
   "metadata": {},
   "source": [
    "```python\n",
    "# Object-Oriented\n",
    "\n",
    "alice.get_account().get_balance().get_qualified_amount()\n",
    "```"
   ]
  },
  {
   "cell_type": "code",
   "execution_count": 3,
   "metadata": {},
   "outputs": [
    {
     "data": {
      "text/plain": [
       "1000000"
      ]
     },
     "execution_count": 3,
     "metadata": {},
     "output_type": "execute_result"
    }
   ],
   "source": [
    "# Functions\n",
    "\n",
    "get_qualified_amount( get_balance( get_account( alice ) ) )"
   ]
  },
  {
   "cell_type": "markdown",
   "metadata": {},
   "source": [
    "# I love *AttributeErrors* !"
   ]
  },
  {
   "cell_type": "code",
   "execution_count": 4,
   "metadata": {},
   "outputs": [],
   "source": [
    "# get_account(None)"
   ]
  },
  {
   "cell_type": "markdown",
   "metadata": {},
   "source": [
    "# what the production code looks like :-("
   ]
  },
  {
   "cell_type": "code",
   "execution_count": 5,
   "metadata": {},
   "outputs": [],
   "source": [
    "def get_loan(name):\n",
    "    account = get_balance(name)\n",
    "    if not account:\n",
    "        return None\n",
    "\n",
    "    balance = get_balance(account)\n",
    "    if not balance:\n",
    "        return None\n",
    "\n",
    "    loan = get_qualified_amount(balance)\n",
    "    return loan"
   ]
  },
  {
   "cell_type": "markdown",
   "metadata": {},
   "source": [
    "# factor! abstract! happy!"
   ]
  },
  {
   "cell_type": "code",
   "execution_count": 6,
   "metadata": {},
   "outputs": [],
   "source": [
    "def bind(v, f):\n",
    "    if v:            # v == alice\n",
    "        return f(v)  # get_account(alice)\n",
    "    else:\n",
    "        return None\n"
   ]
  },
  {
   "cell_type": "code",
   "execution_count": 7,
   "metadata": {},
   "outputs": [
    {
     "data": {
      "text/plain": [
       "Account(id=1)"
      ]
     },
     "execution_count": 7,
     "metadata": {},
     "output_type": "execute_result"
    }
   ],
   "source": [
    "alice = Person('Alice')\n",
    "bind(alice, get_account)"
   ]
  },
  {
   "cell_type": "code",
   "execution_count": null,
   "metadata": {},
   "outputs": [],
   "source": []
  },
  {
   "cell_type": "code",
   "execution_count": 8,
   "metadata": {},
   "outputs": [],
   "source": [
    "def bind(v, f):\n",
    "    if v:\n",
    "        return f(v)\n",
    "    else:            # v == None\n",
    "        return None  # don't call f\n"
   ]
  },
  {
   "cell_type": "code",
   "execution_count": 9,
   "metadata": {},
   "outputs": [
    {
     "name": "stdout",
     "output_type": "stream",
     "text": [
      "None\n"
     ]
    }
   ],
   "source": [
    "alice = Person(None)\n",
    "print(bind(None, get_account))"
   ]
  },
  {
   "cell_type": "code",
   "execution_count": null,
   "metadata": {},
   "outputs": [],
   "source": []
  },
  {
   "cell_type": "markdown",
   "metadata": {},
   "source": [
    "# the code we *really* want to write"
   ]
  },
  {
   "cell_type": "code",
   "execution_count": 10,
   "metadata": {},
   "outputs": [],
   "source": [
    "def bind(v, f): return f(v) if v else None\n",
    "\n",
    "def get_loan(name):\n",
    "    account = bind(name, get_account)\n",
    "    balance = bind(account, get_balance)\n",
    "    loan = bind(balance, get_qualified_amount)\n",
    "    return loan"
   ]
  },
  {
   "cell_type": "code",
   "execution_count": 11,
   "metadata": {},
   "outputs": [
    {
     "data": {
      "text/plain": [
       "1000000"
      ]
     },
     "execution_count": 11,
     "metadata": {},
     "output_type": "execute_result"
    }
   ],
   "source": [
    "alice = Person('Alice')\n",
    "\n",
    "get_loan(alice)"
   ]
  },
  {
   "cell_type": "code",
   "execution_count": 12,
   "metadata": {},
   "outputs": [],
   "source": [
    "get_loan(None)"
   ]
  },
  {
   "cell_type": "code",
   "execution_count": null,
   "metadata": {},
   "outputs": [],
   "source": []
  },
  {
   "cell_type": "markdown",
   "metadata": {},
   "source": [
    "# or more succinctly"
   ]
  },
  {
   "cell_type": "code",
   "execution_count": 13,
   "metadata": {},
   "outputs": [
    {
     "data": {
      "text/plain": [
       "1000000"
      ]
     },
     "execution_count": 13,
     "metadata": {},
     "output_type": "execute_result"
    }
   ],
   "source": [
    "def bind(v, f): return f(v) if v else None\n",
    "\n",
    "def m_pipe(val, fns):\n",
    "    m_val = val\n",
    "    for f in fns:\n",
    "        m_val = bind(m_val, f)\n",
    "    return m_val\n",
    "\n",
    "fns = [get_account, get_balance, get_qualified_amount]\n",
    "\n",
    "m_pipe(alice, fns)"
   ]
  },
  {
   "cell_type": "code",
   "execution_count": 14,
   "metadata": {},
   "outputs": [],
   "source": [
    "dustin = Person('Dustin')\n",
    "\n",
    "m_pipe(dustin, fns)"
   ]
  },
  {
   "cell_type": "code",
   "execution_count": null,
   "metadata": {},
   "outputs": [],
   "source": []
  },
  {
   "cell_type": "markdown",
   "metadata": {},
   "source": [
    "# big picture goal\n",
    "\n",
    "* make the code look like the business logic\n",
    "\n",
    "* *\"good closure programmers write a language to write their programs in\"* -- DSL\n",
    "\n",
    "* build a language to build your business logic\n",
    "\n",
    "* add features without changing your business logic\n",
    "\n",
    "![image.png](attachment:image.png)\n",
    "\n",
    "* *\"Great things are made of little things\"* - Chinese proverb"
   ]
  },
  {
   "cell_type": "code",
   "execution_count": null,
   "metadata": {},
   "outputs": [],
   "source": []
  },
  {
   "cell_type": "markdown",
   "metadata": {},
   "source": [
    "# add a feature to our API"
   ]
  },
  {
   "cell_type": "code",
   "execution_count": 15,
   "metadata": {},
   "outputs": [],
   "source": [
    "from collections import namedtuple\n",
    "\n",
    "Person = namedtuple('Person', 'name')\n",
    "Account = namedtuple('Account', 'id')\n",
    "Balance = namedtuple('Balance', ['cash', 'ccy'])\n",
    "\n",
    "# Add Error Handling festure to API\n",
    "ValueWithError = namedtuple('ValueWithError', ['value', 'error'])\n",
    "\n",
    "alice = Person('Alice')\n",
    "bob = Person('Bob')\n",
    "\n",
    "\n",
    "def get_account(person):\n",
    "    if person.name == 'Alice': return ValueWithError(Account(1), None)\n",
    "    elif person.name == 'Bob': return ValueWithError(Account(2), None)\n",
    "    else: return ValueWithError(None, \"No account for {}\".format(person.name))\n",
    "\n",
    "def get_balance(account):\n",
    "    if account.id == 1: return ValueWithError(Balance(1000000, 'usd'), None)\n",
    "    elif account.id == 2: return ValueWithError(Balance(75000, 'usd'), None)\n",
    "    else: return ValueWithError(None, \"No balance for account {}\".format(account.id))\n",
    "\n",
    "def get_qualified_amount(balance):\n",
    "    if balance.cash > 200000: return ValueWithError(balance, None)\n",
    "    else: return ValueWithError(None, \"Insufficient funds of {}\".format(balance.cash))\n",
    "\n"
   ]
  },
  {
   "cell_type": "markdown",
   "metadata": {},
   "source": [
    "# what does *bind* look like now ?"
   ]
  },
  {
   "cell_type": "code",
   "execution_count": 16,
   "metadata": {},
   "outputs": [],
   "source": [
    "def bind(mval, mf):       # mval == (ValueWithError(Account(1), None)\n",
    "    value = mval.value    # value == Account(1)\n",
    "    error = mval.error    # error == None\n",
    "    if not error:\n",
    "        return mf(value)  # mf(Account(1))\n",
    "    else:                 # mval == (ValueWithError(None, \"Insufficient funds !!\")\n",
    "        return mval       # don't call mf\n"
   ]
  },
  {
   "cell_type": "code",
   "execution_count": 18,
   "metadata": {},
   "outputs": [
    {
     "data": {
      "text/plain": [
       "ValueWithError(value=Balance(cash=1000000, ccy='usd'), error=None)"
      ]
     },
     "execution_count": 18,
     "metadata": {},
     "output_type": "execute_result"
    }
   ],
   "source": [
    "mval = ValueWithError(Account(1), None)\n",
    "\n",
    "bind(mval, get_balance)"
   ]
  },
  {
   "cell_type": "code",
   "execution_count": 19,
   "metadata": {},
   "outputs": [
    {
     "data": {
      "text/plain": [
       "ValueWithError(value=None, error='Insufficient funds !!')"
      ]
     },
     "execution_count": 19,
     "metadata": {},
     "output_type": "execute_result"
    }
   ],
   "source": [
    "mval = ValueWithError(None, \"Insufficient funds !!\")\n",
    "\n",
    "bind(mval, get_balance)"
   ]
  },
  {
   "cell_type": "code",
   "execution_count": null,
   "metadata": {},
   "outputs": [],
   "source": [
    "# Slide 20/47 "
   ]
  }
 ],
 "metadata": {
  "kernelspec": {
   "display_name": "Python 3.6",
   "language": "python",
   "name": "python36"
  },
  "language_info": {
   "codemirror_mode": {
    "name": "ipython",
    "version": 3
   },
   "file_extension": ".py",
   "mimetype": "text/x-python",
   "name": "python",
   "nbconvert_exporter": "python",
   "pygments_lexer": "ipython3",
   "version": "3.6.3"
  }
 },
 "nbformat": 4,
 "nbformat_minor": 2
}
