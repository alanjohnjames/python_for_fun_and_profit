{
 "cells": [
  {
   "cell_type": "markdown",
   "metadata": {
    "collapsed": true
   },
   "source": [
    "# Monads for normal people!\n",
    "\n",
    "Dustin Getz\n",
    "@dustingetz\n"
   ]
  },
  {
   "cell_type": "markdown",
   "metadata": {},
   "source": [
    "# intended audience\n",
    "\n",
    "* coders\n",
    "\n",
    "* who are comfortable with lambdas\n",
    "\n",
    "* who learn by example"
   ]
  },
  {
   "cell_type": "markdown",
   "metadata": {},
   "source": [
    "# goals\n",
    "\n",
    "* how monads work?\n",
    "* how do monads help?\n",
    "* are monads useful IRL?\n",
    "* especially in enterprise?\n",
    "* where do they fall short and what's next?"
   ]
  },
  {
   "cell_type": "markdown",
   "metadata": {},
   "source": [
    "# large codebases are complex\n",
    "\n",
    "* Spring, EJB, AspectJ, DI, AOP\n",
    "* Common goal: make code look like business logic\n",
    "* (to varying degrees of success)"
   ]
  },
  {
   "cell_type": "markdown",
   "metadata": {},
   "source": [
    "# Aspect Oriented Programming\n",
    "\n",
    "*From Wikipedia...*\n",
    "\n",
    "# Lots of code to follow\n",
    "\n",
    "* Pay attention to how functions compose"
   ]
  },
  {
   "cell_type": "markdown",
   "metadata": {},
   "source": [
    "# a bank API"
   ]
  },
  {
   "cell_type": "code",
   "execution_count": 1,
   "metadata": {},
   "outputs": [],
   "source": [
    "from collections import namedtuple\n",
    "\n",
    "Person = namedtuple('Person', 'name')\n",
    "Account = namedtuple('Account', 'id')\n",
    "Balance = namedtuple('Balance', ['cash', 'ccy'])\n",
    "\n",
    "alice = Person('Alice')\n",
    "bob = Person('Bob')\n",
    "\n",
    "\n",
    "def get_account(person):\n",
    "    if person.name == 'Alice': return Account(1)\n",
    "    elif person.name == 'Bob': return Account(2)\n",
    "    else: return None\n",
    "\n",
    "def get_balance(account):\n",
    "    if account.id == 1: return Balance(1000000, 'usd')\n",
    "    elif account.id == 2: return Balance(75000, 'usd')\n",
    "    else: return None\n",
    "\n",
    "def get_qualified_amount(balance):\n",
    "    if balance.cash > 200000: return balance.cash\n",
    "    else: return None\n"
   ]
  },
  {
   "cell_type": "markdown",
   "metadata": {},
   "source": [
    "# what we want to write"
   ]
  },
  {
   "cell_type": "code",
   "execution_count": 2,
   "metadata": {},
   "outputs": [],
   "source": [
    "def get_loan(name):\n",
    "    account = get_balance(name)\n",
    "    balance = get_balance(account)\n",
    "    loan = get_qualified_amount(balance)\n",
    "    return loan"
   ]
  },
  {
   "cell_type": "markdown",
   "metadata": {},
   "source": [
    "# boss would write this code"
   ]
  },
  {
   "cell_type": "markdown",
   "metadata": {},
   "source": [
    "```python\n",
    "# POSIX\n",
    "\n",
    "alice | get_account | get_balance | get_qualified_amount\n",
    "```"
   ]
  },
  {
   "cell_type": "code",
   "execution_count": 3,
   "metadata": {},
   "outputs": [
    {
     "data": {
      "text/plain": [
       "1000000"
      ]
     },
     "execution_count": 3,
     "metadata": {},
     "output_type": "execute_result"
    }
   ],
   "source": [
    "# Functions\n",
    "\n",
    "get_qualified_amount( get_balance( get_account( alice ) ) )"
   ]
  },
  {
   "cell_type": "markdown",
   "metadata": {},
   "source": [
    "```python\n",
    "# Object-Oriented\n",
    "\n",
    "alice.get_account().get_balance().get_qualified_amount()\n",
    "```"
   ]
  },
  {
   "cell_type": "markdown",
   "metadata": {},
   "source": [
    "# I love `AttributeErrors` !"
   ]
  },
  {
   "cell_type": "code",
   "execution_count": 4,
   "metadata": {},
   "outputs": [],
   "source": [
    "# get_account(None)"
   ]
  },
  {
   "cell_type": "markdown",
   "metadata": {},
   "source": [
    "# what the production code looks like :-("
   ]
  },
  {
   "cell_type": "code",
   "execution_count": 5,
   "metadata": {},
   "outputs": [],
   "source": [
    "def get_loan(name):\n",
    "    account = get_balance(name)\n",
    "    if not account:\n",
    "        return None\n",
    "\n",
    "    balance = get_balance(account)\n",
    "    if not balance:\n",
    "        return None\n",
    "\n",
    "    loan = get_qualified_amount(balance)\n",
    "    return loan"
   ]
  },
  {
   "cell_type": "markdown",
   "metadata": {},
   "source": [
    "# factor! abstract! happy!"
   ]
  },
  {
   "cell_type": "code",
   "execution_count": 6,
   "metadata": {},
   "outputs": [],
   "source": [
    "def bind(v, f):\n",
    "    if v:            # v == alice\n",
    "        return f(v)  # get_account(alice)\n",
    "    else:\n",
    "        return None\n"
   ]
  },
  {
   "cell_type": "code",
   "execution_count": 8,
   "metadata": {},
   "outputs": [
    {
     "data": {
      "text/plain": [
       "Account(id=1)"
      ]
     },
     "execution_count": 8,
     "metadata": {},
     "output_type": "execute_result"
    }
   ],
   "source": [
    "alice = Person('Alice')\n",
    "bind(alice, get_account)"
   ]
  },
  {
   "cell_type": "code",
   "execution_count": null,
   "metadata": {},
   "outputs": [],
   "source": []
  },
  {
   "cell_type": "code",
   "execution_count": null,
   "metadata": {},
   "outputs": [],
   "source": [
    "def bind(v, f):\n",
    "    if v:\n",
    "        return f(v)\n",
    "    else:            # v == None\n",
    "        return None  # don't call f\n"
   ]
  },
  {
   "cell_type": "code",
   "execution_count": 11,
   "metadata": {},
   "outputs": [
    {
     "name": "stdout",
     "output_type": "stream",
     "text": [
      "None\n"
     ]
    }
   ],
   "source": [
    "alice = Person('Alice')\n",
    "print(bind(None, get_account))"
   ]
  },
  {
   "cell_type": "code",
   "execution_count": null,
   "metadata": {},
   "outputs": [],
   "source": []
  },
  {
   "cell_type": "markdown",
   "metadata": {},
   "source": [
    "# factor! abstract! happy!"
   ]
  }
 ],
 "metadata": {
  "kernelspec": {
   "display_name": "Python 3.6",
   "language": "python",
   "name": "python36"
  },
  "language_info": {
   "codemirror_mode": {
    "name": "ipython",
    "version": 3
   },
   "file_extension": ".py",
   "mimetype": "text/x-python",
   "name": "python",
   "nbconvert_exporter": "python",
   "pygments_lexer": "ipython3",
   "version": "3.6.3"
  }
 },
 "nbformat": 4,
 "nbformat_minor": 2
}
