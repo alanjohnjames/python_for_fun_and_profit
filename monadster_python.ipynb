{
 "cells": [
  {
   "cell_type": "markdown",
   "metadata": {},
   "source": [
    "# Monadster\n",
    "\n",
    "Python implementation of Scott Wlaschin's F# script demonstrating a custom state monad \n",
    "\n",
    "**References**\n",
    "\n",
    "GitHub Gist: https://gist.github.com/swlaschin/54489d9586402e5b1e8a\n",
    "\n",
    "Blog Post: http://fsharpforfunandprofit.com/posts/monadster/"
   ]
  },
  {
   "cell_type": "markdown",
   "metadata": {
    "collapsed": true
   },
   "source": [
    "## Types helpers\n",
    "\n",
    "Import some Python modules to help us define type classes."
   ]
  },
  {
   "cell_type": "markdown",
   "metadata": {},
   "source": [
    "For Python 2.7 we use the `attrs` library automate generation of boiler-plate code for classes that store plain data.\n"
   ]
  },
  {
   "cell_type": "code",
   "execution_count": 1,
   "metadata": {},
   "outputs": [],
   "source": [
    "#\n",
    "# PYTHON 2.7: attrs\n",
    "# \n",
    "\n",
    "import attr\n",
    "\n",
    "# product_type\n",
    "data_type = attr.s\n",
    "\n",
    "# field\n",
    "data_field = attr.ib\n",
    "# field_type\n",
    "data_field_type = attr.validators.instance_of"
   ]
  },
  {
   "cell_type": "markdown",
   "metadata": {},
   "source": [
    "Python does not have builtin Algebraic Data Types (`product types` and `sum types`). \n",
    "\n",
    "Fortunately the `sumtypes` module can help us with this.\n",
    "\n",
    "First we need to `pip install sumtypes` "
   ]
  },
  {
   "cell_type": "code",
   "execution_count": 2,
   "metadata": {},
   "outputs": [
    {
     "name": "stdout",
     "output_type": "stream",
     "text": [
      "Requirement already satisfied: sumtypes in /home/nbuser/anaconda3_501/lib/python3.6/site-packages\r\n",
      "Requirement already satisfied: attrs in /home/nbuser/anaconda3_501/lib/python3.6/site-packages (from sumtypes)\r\n"
     ]
    }
   ],
   "source": [
    "!pip install sumtypes"
   ]
  },
  {
   "cell_type": "code",
   "execution_count": 3,
   "metadata": {},
   "outputs": [],
   "source": [
    "#\n",
    "# PYTHON 2.7: sumtypes\n",
    "# \n",
    "\n",
    "import sumtypes\n",
    "\n",
    "# sum_type\n",
    "abstract_type = sumtypes.sumtype\n",
    "\n",
    "# match matching\n",
    "data_match = sumtypes.match"
   ]
  },
  {
   "cell_type": "markdown",
   "metadata": {},
   "source": [
    "For Python 3.6 there are some other Python modules that can also help.\n",
    "\n",
    "**dataclasses** module\n",
    "\n",
    "> https://hackernoon.com/a-brief-tour-of-python-3-7-data-classes-22ee5e046517\n",
    "\n",
    "**typing** module\n",
    "\n",
    "> https://medium.com/@ageitgey/learn-how-to-use-static-type-checking-in-python-3-6-in-10-minutes-12c86d72677b\n",
    "\n"
   ]
  },
  {
   "cell_type": "markdown",
   "metadata": {},
   "source": [
    "Python does not have currying of functions by default.\n",
    "\n",
    "Nor does Python have built-in pipable functions.\n",
    "\n",
    "Fortunately the `toolz` library can provide both.  "
   ]
  },
  {
   "cell_type": "code",
   "execution_count": 4,
   "metadata": {},
   "outputs": [],
   "source": [
    "#\n",
    "# PYTHON 2.7: toolz\n",
    "# \n",
    "\n",
    "from toolz import curry\n",
    "from toolz import pipe"
   ]
  },
  {
   "cell_type": "code",
   "execution_count": 5,
   "metadata": {},
   "outputs": [],
   "source": [
    "# =================================================================================\n",
    "# The Common Context (Label,VitalForce)\n",
    "# =================================================================================\n",
    "\n",
    "# All body parts have a label\n",
    "@data_type\n",
    "class Label(object):\n",
    "    label = data_field(validator=data_field_type(str))\n",
    "\n",
    "# The Animal Electricity needed to create a live part\n",
    "@data_type\n",
    "class VitalForce(object):\n",
    "    units = data_field(validator=data_field_type(int))\n",
    "\n",
    "# get one unit of vital force and return the unit and the remaining\n",
    "def getVitalForce(vitalForce): \n",
    "    oneUnit = VitalForce(1)\n",
    "    remaining = VitalForce(vitalForce.units - 1)  # decrement\n",
    "    return oneUnit, remaining  # return both\n"
   ]
  },
  {
   "cell_type": "code",
   "execution_count": 6,
   "metadata": {},
   "outputs": [],
   "source": [
    "# =================================================================================\n",
    "# The Left Leg \n",
    "# =================================================================================\n",
    "\n",
    "# Dr Frankenfunctor has a dead left leg lying around in the lab\n",
    "@data_type\n",
    "class DeadLeftLeg(object):\n",
    "    label = data_field(validator=data_field_type(Label))\n",
    "\n",
    "# and can make a live left leg from it\n",
    "@data_type\n",
    "class LiveLeftLeg(object):\n",
    "    label = data_field(validator=data_field_type(Label))\n",
    "    vitalForce = data_field(validator=data_field_type(VitalForce))"
   ]
  },
  {
   "cell_type": "code",
   "execution_count": 7,
   "metadata": {},
   "outputs": [],
   "source": [
    "# how to make a live thing?  -- First approach\n",
    "# module Approach1 = ... "
   ]
  },
  {
   "cell_type": "code",
   "execution_count": 8,
   "metadata": {},
   "outputs": [],
   "source": [
    "# version 2 -- the input is a curried version. \n",
    "# module Approach2 = ..."
   ]
  },
  {
   "cell_type": "code",
   "execution_count": 9,
   "metadata": {},
   "outputs": [],
   "source": [
    "# version 3 -- the input is a DeadLeftLeg, returning a generator function\n",
    "# module Approach3 = ..."
   ]
  },
  {
   "cell_type": "code",
   "execution_count": 10,
   "metadata": {},
   "outputs": [],
   "source": [
    "# Demonstrates how currying works\n",
    "# module CurryingExample = ..."
   ]
  },
  {
   "cell_type": "code",
   "execution_count": 11,
   "metadata": {},
   "outputs": [],
   "source": [
    "# =================================================================================\n",
    "# Creating the Monadster type\n",
    "# =================================================================================\n",
    "\n",
    "# version 4 -- make the function generic\n",
    "# module Approach4 = ..."
   ]
  },
  {
   "cell_type": "code",
   "execution_count": 12,
   "metadata": {},
   "outputs": [],
   "source": [
    "# final version -- wrap Monadster body part recipe with \"M\"\n",
    "#type M<'LiveBodyPart> = \n",
    "#    M of (VitalForce -> 'LiveBodyPart * VitalForce)\n",
    "@data_type\n",
    "class M(object):\n",
    "    m = data_field()  # can contain any type\n",
    "          \n",
    "# the creation function looks like this now\n",
    "def makeLiveLeftLegM(deadLeftLeg):\n",
    "    def becomeAlive(vitalForce):\n",
    "        label = deadLeftLeg.label\n",
    "        oneUnit, remainingVitalForce = getVitalForce(vitalForce)\n",
    "        liveLeftLeg = LiveLeftLeg(label, oneUnit)\n",
    "        return liveLeftLeg, remainingVitalForce    \n",
    "    return M(becomeAlive)  # wrap the function in a single case union\n",
    "\n",
    "# and the function signature is:\n",
    "# val makeLiveLeftLegM : DeadLeftLeg -> M<LiveLeftLeg>"
   ]
  },
  {
   "cell_type": "code",
   "execution_count": 13,
   "metadata": {},
   "outputs": [],
   "source": [
    "# ---------------------------------------------------------------------------------\n",
    "# Testing the left leg\n",
    "# ---------------------------------------------------------------------------------\n",
    "\n",
    "# create Left Leg\n",
    "deadLeftLeg = DeadLeftLeg(Label(\"Boris\"))\n",
    "leftLegM = makeLiveLeftLegM(deadLeftLeg)"
   ]
  },
  {
   "cell_type": "code",
   "execution_count": 14,
   "metadata": {},
   "outputs": [],
   "source": [
    "# pretend that vital force is available\n",
    "vf = VitalForce(10)\n",
    "\n",
    "innerFn = leftLegM.m\n",
    "liveLeftLeg, remainingAfterLeftLeg = innerFn(vf)\n",
    "# val liveLeftLeg : LiveLeftLeg = \n",
    "#    LiveLeftLeg (\"Boris\",{units = 1;})\n",
    "# val remainingAfterLeftLeg : VitalForce = \n",
    "#    {units = 9;}"
   ]
  },
  {
   "cell_type": "code",
   "execution_count": 15,
   "metadata": {},
   "outputs": [],
   "source": [
    "# encapsulate the function call that \"runs\" the recipe\n",
    "def runM(f, vitalForce):\n",
    "    return f.m(vitalForce)\n",
    "\n",
    "liveLeftLeg2, remainingAfterLeftLeg2 = runM(leftLegM, vf)"
   ]
  },
  {
   "cell_type": "code",
   "execution_count": 16,
   "metadata": {},
   "outputs": [
    {
     "data": {
      "text/plain": [
       "(LiveLeftLeg(label=Label(label='Boris'), vitalForce=VitalForce(units=1)),\n",
       " VitalForce(units=9))"
      ]
     },
     "execution_count": 16,
     "metadata": {},
     "output_type": "execute_result"
    }
   ],
   "source": [
    "liveLeftLeg2, remainingAfterLeftLeg2"
   ]
  },
  {
   "cell_type": "code",
   "execution_count": 17,
   "metadata": {},
   "outputs": [],
   "source": [
    "# =================================================================================\n",
    "# The Right Leg\n",
    "# =================================================================================\n",
    "\n",
    "# no right legs were available -- see the definition of LiveBody later for the workaround"
   ]
  },
  {
   "cell_type": "code",
   "execution_count": 18,
   "metadata": {},
   "outputs": [],
   "source": [
    "# =================================================================================\n",
    "# The Left Arm\n",
    "# =================================================================================\n",
    "\n",
    "# Dr Frankenfunctor has a dead but broken left arm lying around in the lab\n",
    "# type DeadLeftBrokenArm = DeadLeftBrokenArm of Label \n",
    "@data_type\n",
    "class DeadLeftBrokenArm(object):\n",
    "    label = data_field(validator=data_field_type(Label))\n",
    "\n",
    "# You can have a live version of the broken arm too.\n",
    "@data_type\n",
    "class LiveLeftBrokenArm(object):\n",
    "    label = data_field(validator=data_field_type(Label))\n",
    "    vitalForce = data_field(validator=data_field_type(VitalForce))\n",
    "    \n",
    "# There is a live version of a heathly arm, but no dead version\n",
    "@data_type\n",
    "class LiveLeftArm(object):\n",
    "    label = data_field(validator=data_field_type(Label))\n",
    "    vitalForce = data_field(validator=data_field_type(VitalForce))\n",
    "\n",
    "# However, Dr Frankenfunctor CAN turn a broken left arm into a heathly left arm\n",
    "# type HealBrokenArm = LiveLeftBrokenArm -> LiveLeftArm \n",
    "\n",
    "# implementation of HealBrokenArm \n",
    "def healBrokenArm(liveLeftBrokenArm):\n",
    "    return LiveLeftArm(liveLeftBrokenArm.label,\n",
    "                       liveLeftBrokenArm.vitalForce)"
   ]
  },
  {
   "cell_type": "code",
   "execution_count": 19,
   "metadata": {},
   "outputs": [],
   "source": [
    "# version 1 - explicit, hard-coded arm type\n",
    "# module HealArm_v1 = ..."
   ]
  },
  {
   "cell_type": "code",
   "execution_count": 20,
   "metadata": {},
   "outputs": [],
   "source": [
    "# ---------------------------------------------------------------------------------\n",
    "# Introducing mapM\n",
    "# ---------------------------------------------------------------------------------\n",
    "\n",
    "# A generic map that works with ANY body part\n",
    "@curry\n",
    "def mapM(f, bodyPartM): \n",
    "    def transformWhileAlive(vitalForce): \n",
    "        bodyPart, remainingVitalForce = runM(bodyPartM, vitalForce) \n",
    "        updatedBodyPart = f(bodyPart)\n",
    "        return updatedBodyPart, remainingVitalForce\n",
    "    return M(transformWhileAlive) \n",
    "\n",
    "# signature\n",
    "# mapM : f:('a -> 'b) -> M<'a> -> M<'b>\n",
    "\n",
    "# so final version is simple\n",
    "healBrokenArmM = mapM(healBrokenArm)"
   ]
  },
  {
   "cell_type": "code",
   "execution_count": 21,
   "metadata": {},
   "outputs": [],
   "source": [
    "# ---------------------------------------------------------------------------------\n",
    "# The importance of mapM\n",
    "# ---------------------------------------------------------------------------------\n",
    "\n",
    "# some examples of map\n",
    "# module TheImportanceOfMap = ...\n",
    "\n",
    "# conversely, mapM will work with ANY normal type\n",
    "# module MapMWorksWithAllTypes = ..."
   ]
  },
  {
   "cell_type": "code",
   "execution_count": 22,
   "metadata": {},
   "outputs": [],
   "source": [
    "# ---------------------------------------------------------------------------------\n",
    "# Testing the left arm\n",
    "# ---------------------------------------------------------------------------------\n",
    "\n",
    "def makeLiveLeftBrokenArm(deadLeftBrokenArm): \n",
    "    label = deadLeftBrokenArm.label\n",
    "    def becomeAlive(vitalForce): \n",
    "        oneUnit, remainingVitalForce = getVitalForce(vitalForce) \n",
    "        liveLeftBrokenArm = LiveLeftBrokenArm(label, oneUnit)\n",
    "        return liveLeftBrokenArm, remainingVitalForce    \n",
    "    return M(becomeAlive)\n",
    "\n",
    "# create a dead Left Broken Arm\n",
    "deadLeftBrokenArm = DeadLeftBrokenArm(Label(\"Victor\"))\n",
    "\n",
    "# create a M<BrokenLeftArm> from the dead one\n",
    "leftBrokenArmM = makeLiveLeftBrokenArm(deadLeftBrokenArm) \n",
    "\n",
    "# create a M<LeftArm> using mapM and healBrokenArm \n",
    "# let leftArmM = leftBrokenArmM  |> mapM healBrokenArm \n",
    "leftArmM = pipe(leftBrokenArmM, mapM(healBrokenArm))\n",
    "\n",
    "\n",
    "# now we can run it with the vital force\n",
    "# let vf = {units = 10}\n",
    "liveLeftArm, remainingAfterLeftArm = runM(leftArmM, vf)\n",
    "# val liveLeftArm : LiveLeftArm = LiveLeftArm (\"Victor\",{units = 1;})\n",
    "# val remainingAfterLeftArm : VitalForce = {units = 9;}"
   ]
  },
  {
   "cell_type": "code",
   "execution_count": 23,
   "metadata": {},
   "outputs": [
    {
     "data": {
      "text/plain": [
       "(LiveLeftArm(label=Label(label='Victor'), vitalForce=VitalForce(units=1)),\n",
       " VitalForce(units=9))"
      ]
     },
     "execution_count": 23,
     "metadata": {},
     "output_type": "execute_result"
    }
   ],
   "source": [
    "liveLeftArm, remainingAfterLeftArm"
   ]
  },
  {
   "cell_type": "code",
   "execution_count": null,
   "metadata": {},
   "outputs": [],
   "source": []
  }
 ],
 "metadata": {
  "kernelspec": {
   "display_name": "Python 3.6",
   "language": "python",
   "name": "python36"
  },
  "language_info": {
   "codemirror_mode": {
    "name": "ipython",
    "version": 3
   },
   "file_extension": ".py",
   "mimetype": "text/x-python",
   "name": "python",
   "nbconvert_exporter": "python",
   "pygments_lexer": "ipython3",
   "version": "3.6.3"
  }
 },
 "nbformat": 4,
 "nbformat_minor": 2
}
